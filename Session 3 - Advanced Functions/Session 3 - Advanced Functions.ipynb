{
 "cells": [
  {
   "cell_type": "markdown",
   "metadata": {},
   "source": [
    "# 3. Advanced Functions\n",
    "\n",
    "Before we cast ourself into the more abstract Object-Oriented Programming (OOP), we'll wrap up on the Functional Programming regime by covering a series of the more advanced features of Python functions."
   ]
  },
  {
   "cell_type": "markdown",
   "metadata": {},
   "source": [
    "## Functions as objects"
   ]
  },
  {
   "cell_type": "markdown",
   "metadata": {},
   "source": [
    "Are Python functions actually just objects like any other variable? The answer is yes, which means that they can actually be passed around like any other object/variable. See below a simple example where a function is passed as input to another function."
   ]
  },
  {
   "cell_type": "code",
   "execution_count": 1,
   "metadata": {},
   "outputs": [],
   "source": [
    "# My greeting function\n",
    "def my_greeting(name):\n",
    "    return f'Hello {name}!'"
   ]
  },
  {
   "cell_type": "code",
   "execution_count": 2,
   "metadata": {},
   "outputs": [],
   "source": [
    "# A function that evaluate and prints a greeting function\n",
    "def printer(greet_func, name):\n",
    "    print( greet_func(name) )"
   ]
  },
  {
   "cell_type": "code",
   "execution_count": 3,
   "metadata": {},
   "outputs": [
    {
     "name": "stdout",
     "output_type": "stream",
     "text": [
      "Hello Pythonistas!\n"
     ]
    }
   ],
   "source": [
    "# Evaluate the printer function\n",
    "printer(my_greeting, 'Pythonistas')"
   ]
  },
  {
   "cell_type": "markdown",
   "metadata": {},
   "source": [
    "The reason this is possible is because, while Python may support functional programming, it's actually all about object-oriented programming which we'll talk about next time. Today we'll stick to the functional paradigm."
   ]
  },
  {
   "cell_type": "markdown",
   "metadata": {},
   "source": [
    "## Anonymous Functions\n",
    "Anonymous functions are also known as lambda functions because they rely on the `lambda` keyword.\n",
    "They allow for a more compact definition of a function but do not need to be assigned a name, thus anonymous. This is useful for small simple functions only needed locally in the code and therefore should not pollute the global namespace."
   ]
  },
  {
   "cell_type": "markdown",
   "metadata": {},
   "source": [
    "The minimalistic syntax is `lambda arguments: expression` but is better illustrated with an example."
   ]
  },
  {
   "cell_type": "code",
   "execution_count": 4,
   "metadata": {},
   "outputs": [],
   "source": [
    "# Classical named function\n",
    "def my_func1(x, y):\n",
    "    return 2*x + y"
   ]
  },
  {
   "cell_type": "code",
   "execution_count": 5,
   "metadata": {},
   "outputs": [],
   "source": [
    "# Equivalent function using lambda\n",
    "my_func2 = lambda x,y: 2*x + y"
   ]
  },
  {
   "cell_type": "code",
   "execution_count": 6,
   "metadata": {},
   "outputs": [
    {
     "name": "stdout",
     "output_type": "stream",
     "text": [
      "Result of my_func1(2, 1) = 5\n"
     ]
    }
   ],
   "source": [
    "print(f'Result of my_func1(2, 1) = {my_func1(2, 1)}')"
   ]
  },
  {
   "cell_type": "code",
   "execution_count": 7,
   "metadata": {},
   "outputs": [
    {
     "name": "stdout",
     "output_type": "stream",
     "text": [
      "Result of my_func2(2, 1) = 5\n"
     ]
    }
   ],
   "source": [
    "print(f'Result of my_func2(2, 1) = {my_func2(2, 1)}')"
   ]
  },
  {
   "cell_type": "markdown",
   "metadata": {},
   "source": [
    "The main difference is that the lambda function does not have to be saved to a variable name. Examples of this are shown below.\n",
    "\n",
    "## Filter, Map and Reduce\n",
    "Some built-in functions that expect a function as input (also known as higher-order functions) are the filter, map and reduce functions illustrated below. These are all key functions in the paradigm of functional programming."
   ]
  },
  {
   "cell_type": "code",
   "execution_count": 8,
   "metadata": {},
   "outputs": [
    {
     "data": {
      "text/plain": [
       "[2, 4, 6, 8, 10]"
      ]
     },
     "execution_count": 8,
     "metadata": {},
     "output_type": "execute_result"
    }
   ],
   "source": [
    "# The Filter function takes two arguments. A function defining the filter criteria  \n",
    "# and a list/iterable to be filtered\n",
    "list(filter( lambda x: x%2 == 0, [1,2,3,4,5,6,7,8,9,10] ))  # extracts even numbers"
   ]
  },
  {
   "cell_type": "code",
   "execution_count": 9,
   "metadata": {},
   "outputs": [
    {
     "data": {
      "text/plain": [
       "[11.0, 22.0, 33.0, 44.0]"
      ]
     },
     "execution_count": 9,
     "metadata": {},
     "output_type": "execute_result"
    }
   ],
   "source": [
    "# The Map function applies a function element-wise to a list/iterable\n",
    "list(map( lambda p: p * 1.10, [10,20,30,40]))"
   ]
  },
  {
   "cell_type": "code",
   "execution_count": 10,
   "metadata": {},
   "outputs": [
    {
     "data": {
      "text/plain": [
       "'((((a+b)+c)+d)+e)'"
      ]
     },
     "execution_count": 10,
     "metadata": {},
     "output_type": "execute_result"
    }
   ],
   "source": [
    "# The Reduce function performs a repetitive operation on the first two elements of a list \n",
    "# merging them into one element until the whole list have been reduced\n",
    "from functools import reduce\n",
    "reduce( lambda c1, c2: f'({c1}+{c2})', ['a','b','c','d','e'])"
   ]
  },
  {
   "cell_type": "markdown",
   "metadata": {},
   "source": [
    "## Decorators\n",
    "A decorator is denoted with an `@` \"pie notation\" and is used if one needs to equip a function with an additional feature without editing the original function that might already be in use elsewhere or imported from another project."
   ]
  },
  {
   "cell_type": "code",
   "execution_count": 11,
   "metadata": {},
   "outputs": [],
   "source": [
    "# exotic function we cannot/will not change\n",
    "def exo_func(x):\n",
    "    print( f'x = {x} but with an exotic twist' )"
   ]
  },
  {
   "cell_type": "code",
   "execution_count": 12,
   "metadata": {},
   "outputs": [
    {
     "name": "stdout",
     "output_type": "stream",
     "text": [
      "x = 10 but with an exotic twist\n"
     ]
    }
   ],
   "source": [
    "# evaluating the function looks like this\n",
    "exo_func(10)"
   ]
  },
  {
   "cell_type": "markdown",
   "metadata": {},
   "source": [
    "A decorator is a function that defines a wrapping function that wraps the target function together with new features and returns the wrapping function without executing it."
   ]
  },
  {
   "cell_type": "code",
   "execution_count": 13,
   "metadata": {},
   "outputs": [],
   "source": [
    "# my decorator that adds additional features to the original exotic function\n",
    "def my_decorator(func):\n",
    "    def wrapper(x):  # <-- this is an inner function\n",
    "        print('Do something before')\n",
    "        func(x - 1)\n",
    "        func(x + 1)\n",
    "        print('Or do something after')\n",
    "    return wrapper\n",
    "# Note: that this function actually returns another unexecuted function!"
   ]
  },
  {
   "cell_type": "code",
   "execution_count": 14,
   "metadata": {},
   "outputs": [],
   "source": [
    "# overwrites/redirect the `exo_func` variable name to a decorated version of the function\n",
    "exo_func = my_decorator(exo_func)"
   ]
  },
  {
   "cell_type": "code",
   "execution_count": 15,
   "metadata": {},
   "outputs": [
    {
     "name": "stdout",
     "output_type": "stream",
     "text": [
      "Do something before\n",
      "x = 9 but with an exotic twist\n",
      "x = 11 but with an exotic twist\n",
      "Or do something after\n"
     ]
    }
   ],
   "source": [
    "# evaluating the decorated function\n",
    "exo_func(10)"
   ]
  },
  {
   "cell_type": "markdown",
   "metadata": {},
   "source": [
    "It is therefore possible to modify the behaviour of an existing function without changing the original function."
   ]
  },
  {
   "cell_type": "markdown",
   "metadata": {},
   "source": [
    "Alternatively, if you already have a decorator that you want to use on a new function you may use the `@` \"pie notation\" as a syntactic shortcut."
   ]
  },
  {
   "cell_type": "code",
   "execution_count": 16,
   "metadata": {},
   "outputs": [],
   "source": [
    "from math import sqrt\n",
    "@my_decorator\n",
    "def my_sqrt(x):\n",
    "    print( f'sqrt(x) = {sqrt(x)} but with a mathematical twist' )"
   ]
  },
  {
   "cell_type": "code",
   "execution_count": 17,
   "metadata": {},
   "outputs": [
    {
     "name": "stdout",
     "output_type": "stream",
     "text": [
      "Do something before\n",
      "sqrt(x) = 3.0 but with a mathematical twist\n",
      "sqrt(x) = 3.3166247903554 but with a mathematical twist\n",
      "Or do something after\n"
     ]
    }
   ],
   "source": [
    "# evaluating decorated math function\n",
    "my_sqrt(10)"
   ]
  },
  {
   "cell_type": "markdown",
   "metadata": {},
   "source": [
    "## Generators\n",
    "A generator is a special iterable function that does not terminate but wait for you to request the next output.\n",
    "For this it uses the `yield` keyword that keeps the namespace inside the function alive until a `return` keyword is reached or there's no more code to run.\n",
    "To ask a generator for its next output you use the `next()` function."
   ]
  },
  {
   "cell_type": "markdown",
   "metadata": {},
   "source": [
    "Let's have a look at a simple example."
   ]
  },
  {
   "cell_type": "code",
   "execution_count": 18,
   "metadata": {},
   "outputs": [],
   "source": [
    "# My simple generator\n",
    "def count_to_10(start=0):\n",
    "    num = start\n",
    "    while True:\n",
    "        num += 1\n",
    "        if num > 10: return 'I can only count to 10! :('\n",
    "        yield num"
   ]
  },
  {
   "cell_type": "code",
   "execution_count": 19,
   "metadata": {},
   "outputs": [
    {
     "data": {
      "text/plain": [
       "<generator object count_to_10 at 0x00000180B843CCC8>"
      ]
     },
     "execution_count": 19,
     "metadata": {},
     "output_type": "execute_result"
    }
   ],
   "source": [
    "# Evaluating a generator just gives a generator object.\n",
    "count_to_10(5)"
   ]
  },
  {
   "cell_type": "markdown",
   "metadata": {},
   "source": [
    "Instead one should ask the generator object for its next output like this:"
   ]
  },
  {
   "cell_type": "code",
   "execution_count": 20,
   "metadata": {},
   "outputs": [
    {
     "name": "stdout",
     "output_type": "stream",
     "text": [
      "6\n",
      "7\n",
      "8\n",
      "9\n"
     ]
    }
   ],
   "source": [
    "my_num = count_to_10(5)\n",
    "print( next(my_num) )\n",
    "print( next(my_num) )\n",
    "print( next(my_num) )\n",
    "print( next(my_num) )"
   ]
  },
  {
   "cell_type": "code",
   "execution_count": 21,
   "metadata": {},
   "outputs": [
    {
     "data": {
      "text/plain": [
       "10"
      ]
     },
     "execution_count": 21,
     "metadata": {},
     "output_type": "execute_result"
    }
   ],
   "source": [
    "# it's still alive\n",
    "next(my_num)"
   ]
  },
  {
   "cell_type": "code",
   "execution_count": 22,
   "metadata": {},
   "outputs": [
    {
     "ename": "StopIteration",
     "evalue": "I can only count to 10! :(",
     "output_type": "error",
     "traceback": [
      "\u001b[1;31m---------------------------------------------------------------------------\u001b[0m",
      "\u001b[1;31mStopIteration\u001b[0m                             Traceback (most recent call last)",
      "\u001b[1;32m<ipython-input-22-e63b252faf6b>\u001b[0m in \u001b[0;36m<module>\u001b[1;34m\u001b[0m\n\u001b[0;32m      1\u001b[0m \u001b[1;31m# if we try again we will exhaust the generator and it will throw a StopIteration exception\u001b[0m\u001b[1;33m\u001b[0m\u001b[1;33m\u001b[0m\u001b[1;33m\u001b[0m\u001b[0m\n\u001b[1;32m----> 2\u001b[1;33m \u001b[0mnext\u001b[0m\u001b[1;33m(\u001b[0m\u001b[0mmy_num\u001b[0m\u001b[1;33m)\u001b[0m\u001b[1;33m\u001b[0m\u001b[1;33m\u001b[0m\u001b[0m\n\u001b[0m",
      "\u001b[1;31mStopIteration\u001b[0m: I can only count to 10! :("
     ]
    }
   ],
   "source": [
    "# if we try again we will exhaust the generator and it will throw a StopIteration exception\n",
    "next(my_num)"
   ]
  },
  {
   "cell_type": "markdown",
   "metadata": {},
   "source": [
    "Asking for one output at a time can be useful if it's computational heavy and you properly won't need them all or if all of the outputs doesn't fit in memory.\n",
    "\n",
    "Generators are especially nice when dealing with very large iterables, e.g. a list. By supplying only a single element at a time when it's needed. The entire list, say with a million elements, is not held in memory. \n",
    "So even if the list *can* fit in memory, it can still be good design to use generators. If you open Windows task manager at the same time you are running a script that loads a very large list into memory you will be able to see the vast memory consumption."
   ]
  },
  {
   "cell_type": "code",
   "execution_count": 23,
   "metadata": {},
   "outputs": [
    {
     "data": {
      "text/plain": [
       "[3, 4, 5, 6, 7, 8, 9, 10]"
      ]
     },
     "execution_count": 23,
     "metadata": {},
     "output_type": "execute_result"
    }
   ],
   "source": [
    "# calling list() on the generator forces it to compute the full sequence\n",
    "list( count_to_10(start=2) )"
   ]
  },
  {
   "cell_type": "markdown",
   "metadata": {},
   "source": [
    "Generators can very easily be looped over:"
   ]
  },
  {
   "cell_type": "code",
   "execution_count": 24,
   "metadata": {},
   "outputs": [
    {
     "name": "stdout",
     "output_type": "stream",
     "text": [
      "1\n",
      "2\n",
      "3\n",
      "4\n",
      "5\n",
      "6\n",
      "7\n",
      "8\n",
      "9\n",
      "10\n"
     ]
    }
   ],
   "source": [
    "for num in count_to_10():\n",
    "    print(num)"
   ]
  },
  {
   "cell_type": "markdown",
   "metadata": {},
   "source": [
    "Generators are extremely common in Python 3 where many of the built-in functions by default return a generator object/iterator instead of e.g. a list. Examples are Zip, Map and Filter.\n",
    "\n",
    "It should be noted that calling `next()` on a generator object is mostly used for explaining how they work. I.e. to show that they are *waiting* for the *next* value to be requested. \n",
    "It is not necessary to use `next()` in your actual code, since it is automatically called internally when looping over a generator.\n",
    "\n",
    "Similarly, you will not see the `StopIteration` error that is thrown internally when the generator is exhausted. When this error is encountered, Python will silently exit the loop.\n",
    "These facts can be seen by the for-loop just above, where the none of these are visible."
   ]
  },
  {
   "cell_type": "markdown",
   "metadata": {},
   "source": [
    "### Generators - Practical example\n",
    "The example below aims to demonstrate how a generator can be used in practice.\n",
    "\n",
    "The generator yields points on a circle perimeter when given a radius and an increment to increase the angle with in each iteration."
   ]
  },
  {
   "cell_type": "code",
   "execution_count": 25,
   "metadata": {},
   "outputs": [],
   "source": [
    "from math import pi, floor, cos, sin\n",
    "\n",
    "\n",
    "def points_on_circle(radius, angle_increment, center=(0, 0)):\n",
    "    '''Yield points on a the perimeter of a circle.\n",
    "\n",
    "    Parameters\n",
    "    ----------\n",
    "    radius: number\n",
    "        Radius of the circle.\n",
    "    angle_increment: number\n",
    "        Increment with which to increase the angle in each iteration.\n",
    "    center: tuple\n",
    "        Coordinates for the center of the circle in the format (x, y).\n",
    "        Defaults to (0, 0). \n",
    "\n",
    "    Yields\n",
    "    ------\n",
    "    tuple\n",
    "        Coordinates for each point on the perimeter in the format (x, y).\n",
    "    '''\n",
    "    \n",
    "    # Find the number of points to be computed\n",
    "    n_points = floor(360 / angle_increment)\n",
    "\n",
    "    # Loop over all angles within the circle and yield matching perimeter points\n",
    "    for i in range(n_points):\n",
    "        \n",
    "        # Compute current angle\n",
    "        angle = i * angle_increment\n",
    "\n",
    "        # Compute x- and y-coordinate on perimeter for current angle\n",
    "        x = center[0] + radius * cos(angle * pi / 180)\n",
    "        y = center[1] + radius * sin(angle * pi / 180)\n",
    "\n",
    "        yield x, y"
   ]
  },
  {
   "cell_type": "markdown",
   "metadata": {},
   "source": [
    "Let's to a quick test to see if it behaves as we expect."
   ]
  },
  {
   "cell_type": "code",
   "execution_count": 26,
   "metadata": {},
   "outputs": [
    {
     "name": "stdout",
     "output_type": "stream",
     "text": [
      "(10.0, 0.0)\n",
      "(7.1, 7.1)\n",
      "(0.0, 10.0)\n",
      "(-7.1, 7.1)\n",
      "(-10.0, 0.0)\n",
      "(-7.1, -7.1)\n",
      "(-0.0, -10.0)\n",
      "(7.1, -7.1)\n"
     ]
    }
   ],
   "source": [
    "# Test the generator\n",
    "for x, y in points_on_circle(radius=10, angle_increment=45):\n",
    "    print(f'({x:.1f}, {y:.1f})')"
   ]
  },
  {
   "cell_type": "markdown",
   "metadata": {},
   "source": [
    "The output looks correct.\n",
    "\n",
    "For such a small number of points, it might not make much difference to use a generator compared to a regular function. But if the circle had a radius of multiple kilometers, it might be necessary to use a very small angle increment, and thereby many points, to get a fine curve when zooming in at a specific point. In that case, a generator would be a good choice. \n",
    "\n",
    "In addition, there's not more code to write compared to a function. In fact, the number of lines can often be reduced when using generators.\n",
    "\n",
    "Let's try creating a plot to visualize the points that our generator yields."
   ]
  },
  {
   "cell_type": "code",
   "execution_count": 27,
   "metadata": {},
   "outputs": [
    {
     "data": {
      "image/png": "[encoded data removed]",
      "text/plain": [
       "<Figure size 432x288 with 1 Axes>"
      ]
     },
     "metadata": {
      "needs_background": "light"
     },
     "output_type": "display_data"
    }
   ],
   "source": [
    "# Create generator with a circle of r=10 and angle increment of 45 degrees  \n",
    "circle_point_gen = points_on_circle(radius=10, angle_increment=45)\n",
    "\n",
    "# Exhaust the generator into a list\n",
    "xy = list(circle_point_gen)\n",
    "\n",
    "# The list `xy` now has the format [(x1, y1), (x2, y2), ..., (xn, yn)]\n",
    "\n",
    "# Put x- and y-coordinates into separate lists\n",
    "x, y = zip(*xy)\n",
    "\n",
    "# Create the same circle, but with many points for plotting the entire circle\n",
    "xy_full_circle = list(points_on_circle(radius=10, angle_increment=1))\n",
    "x_full_circle, y_full_circle = zip(*xy_full_circle)\n",
    "\n",
    "# Plot the results (with axis kept equal to the circle doesn't stretch)\n",
    "import matplotlib.pyplot as plt\n",
    "plt.plot(x, y, '.', markersize=20)\n",
    "plt.plot(x_full_circle, y_full_circle)\n",
    "plt.axis('equal')\n",
    "plt.show()"
   ]
  },
  {
   "cell_type": "markdown",
   "metadata": {},
   "source": [
    "Note that we exhausted our generator into a list since `plt.plot` expects a list as input. \n",
    "\n",
    "We thereby put the whole list in memory and \"lost\" the advantage of *yielding* one value at a time. This is totally fine in many cases, like often seen with e.g. the built-in `map`. Using generators just gives us both the option of yielding values and converting them to lists, tuples etc. "
   ]
  },
  {
   "cell_type": "markdown",
   "metadata": {},
   "source": [
    "## Coroutines\n",
    "Coroutines are similar to generators, but instead of waiting to give the next output they wait for information to be sent to it via the send() method call. To do this the `yield` keyword now get a dual purpose, beside returning the output it also receives an input."
   ]
  },
  {
   "cell_type": "code",
   "execution_count": 28,
   "metadata": {},
   "outputs": [],
   "source": [
    "# Same example but now the yield keyword also insert an input into the num variable\n",
    "def count_to_10(start=0, step=1):\n",
    "    num = start\n",
    "    while True:\n",
    "        num += step\n",
    "        if num > 10: return 'I can only count to 10! :('\n",
    "        step = yield num"
   ]
  },
  {
   "cell_type": "markdown",
   "metadata": {},
   "source": [
    "Strictly speaking coroutine only receives, so this is actually both a generator and a coroutine."
   ]
  },
  {
   "cell_type": "code",
   "execution_count": 29,
   "metadata": {},
   "outputs": [
    {
     "data": {
      "text/plain": [
       "3"
      ]
     },
     "execution_count": 29,
     "metadata": {},
     "output_type": "execute_result"
    }
   ],
   "source": [
    "num = count_to_10(2)\n",
    "next(num)  # moves the internal cursor down to the yield statement"
   ]
  },
  {
   "cell_type": "code",
   "execution_count": 30,
   "metadata": {},
   "outputs": [
    {
     "data": {
      "text/plain": [
       "4"
      ]
     },
     "execution_count": 30,
     "metadata": {},
     "output_type": "execute_result"
    }
   ],
   "source": [
    "num.send(1)  # the internal cursor must be located at the yield statement before input can be send"
   ]
  },
  {
   "cell_type": "code",
   "execution_count": 31,
   "metadata": {},
   "outputs": [
    {
     "data": {
      "text/plain": [
       "6"
      ]
     },
     "execution_count": 31,
     "metadata": {},
     "output_type": "execute_result"
    }
   ],
   "source": [
    "num.send(2)  # steps by two"
   ]
  },
  {
   "cell_type": "code",
   "execution_count": 32,
   "metadata": {},
   "outputs": [
    {
     "data": {
      "text/plain": [
       "9"
      ]
     },
     "execution_count": 32,
     "metadata": {},
     "output_type": "execute_result"
    }
   ],
   "source": [
    "num.send(3)  # steps by three"
   ]
  },
  {
   "cell_type": "markdown",
   "metadata": {},
   "source": [
    "So beside keeping a function alive waiting for you to request its next output, information can now also be passed into the function during each of the iterations."
   ]
  },
  {
   "cell_type": "markdown",
   "metadata": {},
   "source": [
    "Finally, can both generators and coroutines be closed/terminated if they're no longer needed."
   ]
  },
  {
   "cell_type": "code",
   "execution_count": 33,
   "metadata": {},
   "outputs": [],
   "source": [
    "num.close()"
   ]
  },
  {
   "cell_type": "markdown",
   "metadata": {},
   "source": [
    "# Exercises\n",
    "\n",
    "The exercises in this session focus on:\n",
    " \n",
    "- lambda functions\n",
    "- decorators\n",
    "- generators\n",
    "\n",
    "*Remember to keep using git for version control of your code. Preferably this should become a new good habit of yours*."
   ]
  },
  {
   "cell_type": "markdown",
   "metadata": {},
   "source": [
    "## Exercise 1\n",
    "You got a list of tuples where each tuple contains (x, y, z) coordinates. \n",
    "Your task is now to sort this list of data points according to descending y-coordinates in **one line of code** by the use of a lambda function.\n",
    "\n",
    "Use the following code to generate the list of data points:\n",
    "```python\n",
    "# from the built-in random module import the random function that generates floats between 0 to 1.\n",
    "from random import random\n",
    "# generate a list of 10 data points\n",
    "data_points = [(random(), random(), random()) for x in range(10)]\n",
    "# print the data points\n",
    "for data_point in data_points:\n",
    "    print( data_point )\n",
    "```\n",
    "\n",
    "#### Hint 1\n",
    "There's basicly two ways to sort a list. Either you can use the `list.sort()` method call to sort the list inplace or the `sorted(list)` function call on the list to output a new sorted list without changing the original. The choice is yours but in any case you should consider using the keyword arguments `key` and `reverse`. \n",
    "#### Hint 2\n",
    "The keyword argument `key` takes in a function object that for each of the list elements return the key element of the sort.\n",
    "#### Hint 3\n",
    "In three lines of code it could be done like this:\n",
    "```python\n",
    "def get_second_value(x):\n",
    "    return x[1]\n",
    "sorted_points = sorted(data_points, key=get_second_value, reverse=True)\n",
    "```"
   ]
  },
  {
   "cell_type": "markdown",
   "metadata": {},
   "source": [
    "## Exercise 2\n",
    "Write a decorator that measures and prints the execution time of a function compatible with any number of arguments and keyword arguments.\n",
    "\n",
    "You can test your decorator in this function:\n",
    "```python\n",
    "import time\n",
    "def wait_1_sec():\n",
    "    time.sleep(1)  # sleeps 1 second\n",
    "    print('slept for 1 second')\n",
    "```\n",
    "#### Hint 1\n",
    "Without using a decorator it could look like this:\n",
    "```python\n",
    "start_time = time.perf_counter()\n",
    "wait_1_sec()\n",
    "end_time = time.perf_counter()\n",
    "time_diff = end_time - start_time\n",
    "print( f'the execution took {time_diff} seconds' )\n",
    "```\n",
    "#### Hint 2\n",
    "Use ```(*args, **kwargs)``` as inputs to the wrapping function and pass them into the timed function."
   ]
  },
  {
   "cell_type": "markdown",
   "metadata": {},
   "source": [
    "## Exercise 3\n",
    "Write a generator that outputs the element-wise squared value of a list. \n",
    "\n",
    "1. Define an arbitrary list\n",
    "2. Use the generator to loop through the outputs while printing\n",
    "3. Get the output from the generator as a new list\n",
    "\n",
    "#### Hint 1\n",
    "Use the `yield` keyword instead of `return` to turn a function into a generator.\n",
    "\n",
    "#### Hint 2\n",
    "Using the `list` function call on a generator will force the generator to complete all its iterations."
   ]
  },
  {
   "cell_type": "markdown",
   "metadata": {},
   "source": [
    "## Bonus exercise\n",
    "Write a coroutine that prepares a new file for writing and then everytime it receives a string via the `send()` method it writes it to the file.\n",
    "#### Hint 1\n",
    "Remeber to use a context manager to ensure proper closing of the file once the coroutine is closed.\n",
    "```python\n",
    "with open(filename, 'w') as f:\n",
    "    f.write(string)\n",
    "```"
   ]
  },
  {
   "cell_type": "markdown",
   "metadata": {},
   "source": [
    "# End of exercises\n",
    "*The cell below is for setting the style of this document. It's not part of the exercises.*"
   ]
  },
  {
   "cell_type": "code",
   "execution_count": 34,
   "metadata": {},
   "outputs": [
    {
     "data": {
      "text/html": [
       "<style>\n",
       "/* div#notebook {\n",
       " font-size: 13pt;\n",
       " line-height: 120%;\n",
       " color: #303030;\n",
       " -webkit-font-smoothing: antialiased !important;\n",
       " padding-top: 25px !important;\n",
       "} */\n",
       "\n",
       "\n",
       "body,\n",
       "div.body {\n",
       " font-family: Roboto;\n",
       " /* font-size: 16pt; */\n",
       " color: #303030;\n",
       " /* background-color: #d1b5b5; */\n",
       " /* background: #8f4f4f; */\n",
       " margin-right: 10px;\n",
       " /* -webkit-font-smoothing: antialiased !important; */\n",
       "}\n",
       "\n",
       "/* Code inside HTML/Markdown */\n",
       "div.rendered_html code {\n",
       "    border-radius: 5px;\n",
       "}\n",
       "\n",
       "/* Output area from code cells */\n",
       "div.output_area pre {\n",
       "    /* font-size: 11pt !important; */\n",
       "    color: #303030;\n",
       "}\n",
       "\n",
       "\n",
       "\n",
       "/* HEADING 1 styles */\n",
       "h1 {\n",
       "    font-family: 'Roboto', 'Signika', sans-serif;\n",
       "    font-weight: ligher;\n",
       "    font-style: normal;\n",
       "    /* font-size: 20pt; */\n",
       "    width: 100%;\n",
       "    text-align: left;\n",
       "    color: #EE7631;\n",
       "    border-bottom: 1px solid rgba(238, 118, 49, 0.575);\n",
       "    padding-bottom: 6px;\n",
       "    /* font-variant: small-caps; */\n",
       "    }\n",
       "  \n",
       "    /* table {\n",
       "        margin: 5px;\n",
       "        width: 290px;\n",
       "    }\n",
       "  \n",
       "    th {\n",
       "        padding: 3px;\n",
       "    }\n",
       "  \n",
       "    td {\n",
       "        padding-left: 8px;\n",
       "        padding-right: 8px;\n",
       "        border: 1px solid #990000;\n",
       "        background-color: #ffffcc;\n",
       "    }\n",
       "\n",
       "    #trHeader {\n",
       "        text-decoration: underline;\n",
       "        color: #990000;\n",
       "    }\n",
       "  \n",
       "    .centerCell {\n",
       "        text-align: center;\n",
       "    } */\n",
       "\n",
       "/* HEADING 2 styles */\n",
       "h2 {\n",
       "        font-family: \"Roboto\";\n",
       "        text-align: left;\n",
       "        /* font-size: 12pt; */\n",
       "        color: #EE7631;\n",
       "        margin-bottom: 5px;\n",
       "        /* border-bottom: 1px solid lightgray; */\n",
       "        border-bottom: 0.8px solid rgba(238, 118, 49, 0.575);\n",
       "        padding-bottom: 6px\n",
       "    }\n",
       "  \n",
       "    /* table {\n",
       "        margin: 5px;\n",
       "        width: 290px;\n",
       "    }\n",
       "  \n",
       "    th {\n",
       "        padding: 3px;\n",
       "    }\n",
       "  \n",
       "    td {\n",
       "        padding-left: 8px;\n",
       "        padding-right: 8px;\n",
       "        border: 1px solid #990000;\n",
       "        background-color: #ffffcc;\n",
       "    }\n",
       "\n",
       "    #trHeader {\n",
       "        text-decoration: underline;\n",
       "        color: #990000;\n",
       "    }\n",
       "  \n",
       "    .centerCell {\n",
       "        text-align: center;\n",
       "    } */\n",
       "\n",
       "h3 {\n",
       "        font-family: 'Roboto';\n",
       "        /* text-align: left; */\n",
       "        /* font-size: 12pt; */\n",
       "        /* color: #EE7631; */\n",
       "        /* margin-bottom: 5px; */\n",
       "        border-bottom: 0.5px solid #ededed;\n",
       "        padding-bottom: 6px\n",
       "    }\n",
       "\n",
       "\n",
       "\n",
       "p {\n",
       "    font-family: Roboto;\n",
       "    font-size: 16px;\n",
       "}\n",
       "\n",
       "/* Lists  with dots */\n",
       "ul {\n",
       "    font-size: 16px;\n",
       "    line-height: 150%;\n",
       "}\n",
       "\n",
       "/* Lists  with numbers */\n",
       "ol {\n",
       "    font-size: 16px;\n",
       "    line-height: 150%;\n",
       "}\n",
       "\n",
       "/* Horizontal rules */\n",
       "hr { \n",
       "    margin-top: 3px; \n",
       "    margin-bottom: 3px \n",
       "}\n",
       "\n",
       "/* Links */\n",
       "a {\n",
       "  color: #EE7631;\n",
       "}\n",
       "\n",
       "\n",
       "/* Change global font size (for code) */\n",
       ".CodeMirror {\n",
       "font-size: 16px !important;\n",
       "font-family: monospace;\n",
       "}\n",
       "\n",
       "\n",
       "/* Code cells in the notebook - NOTE: color is font-color */\n",
       ".cm-s-ipython.CodeMirror {\n",
       " font-family: monospace, monospace;\n",
       " /* font-size: 11pt; */\n",
       " background: #ededed;\n",
       " color: #303030;     \n",
       " border-radius: 2px;\n",
       " /* margin-right: 10px; */\n",
       " font-style: normal;\n",
       " font-weight: normal;\n",
       "}\n",
       "\n",
       "\n",
       "/* Background of code cells */\n",
       ".cm-s-ipython.CodeMirror {\n",
       " font-family: monospace, monospace;\n",
       " /* font-size: 11pt; */\n",
       " background: rgba(211, 211, 211, 0.123);\n",
       " color: #303030;\n",
       " border-radius: 2px;\n",
       " font-style: normal;\n",
       " font-weight: normal;\n",
       "}\n",
       "\n",
       "\n",
       "/* .CodeMirror-gutters {\n",
       " border: none;\n",
       " border-right: 1px solid #e0e1e3 !important;\n",
       " background-color: #e0e1e3 !important;\n",
       " background: #e0e1e3 !important;\n",
       " border-radius: 0px;\n",
       " white-space: nowrap;\n",
       "} */\n",
       "\n",
       "\n",
       "\n",
       "/* Code syntax highlithig theme */\n",
       ".cm-s-ipython .CodeMirror-cursor {\n",
       " border-left: 2px solid #ff711a !important;\n",
       "}\n",
       ".cm-s-ipython span.cm-comment {\n",
       " color: #8d8d8d;\n",
       " font-style: italic;                                                   \n",
       "}\n",
       ".cm-s-ipython span.cm-atom {\n",
       " color: #055be0;\n",
       "}\n",
       ".cm-s-ipython span.cm-number {\n",
       " color: #ff8132;\n",
       "}\n",
       ".cm-s-ipython span.cm-property {\n",
       " color: #303030;\n",
       "}\n",
       ".cm-s-ipython span.cm-attribute {\n",
       " color: #303030;\n",
       "}\n",
       ".cm-s-ipython span.cm-keyword {\n",
       " color: #a045ddf3;\n",
       " font-weight: normal;\n",
       "}\n",
       ".cm-s-ipython span.cm-string {\n",
       " color: #009e07;\n",
       "}\n",
       ".cm-s-ipython span.cm-meta {\n",
       " color: #aa22ff;\n",
       "}\n",
       ".cm-s-ipython span.cm-operator {\n",
       " color: #055be0;\n",
       "}\n",
       ".cm-s-ipython span.cm-builtin {\n",
       " color: #3f2ce7;\n",
       "}\n",
       ".cm-s-ipython span.cm-variable {\n",
       " color: #303030;\n",
       "}\n",
       ".cm-s-ipython span.cm-variable-2 {\n",
       " color: #de143d;\n",
       "}\n",
       ".cm-s-ipython span.cm-variable-3 {\n",
       " color: #aa22ff;\n",
       "}\n",
       ".cm-s-ipython span.cm-def {\n",
       " color: #e22978;\n",
       " font-weight: normal;\n",
       "}\n",
       ".cm-s-ipython span.cm-error {\n",
       " background: rgba(191,11,55,.70);\n",
       "}\n",
       ".cm-s-ipython span.cm-tag {\n",
       " color: #e22978;\n",
       "}\n",
       ".cm-s-ipython span.cm-link {\n",
       " color: #ef5c00;\n",
       "}\n",
       ".cm-s-ipython span.cm-storage {\n",
       " color: #055be0;\n",
       "}\n",
       ".cm-s-ipython span.cm-entity {\n",
       " color: #e22978;\n",
       "}\n",
       ".cm-s-ipython span.cm-quote {\n",
       " color: #009e07;\n",
       "}\n",
       "</style>"
      ],
      "text/plain": [
       "<IPython.core.display.HTML object>"
      ]
     },
     "execution_count": 34,
     "metadata": {},
     "output_type": "execute_result"
    }
   ],
   "source": [
    "# Apply css theme to notebook\n",
    "from IPython.display import HTML\n",
    "HTML('<style>{}</style>'.format(open('../css/cowi.css').read()))"
   ]
  }
 ],
 "metadata": {
  "hide_input": false,
  "kernelspec": {
   "display_name": "Python 3",
   "language": "python",
   "name": "python3"
  },
  "language_info": {
   "codemirror_mode": {
    "name": "ipython",
    "version": 3
   },
   "file_extension": ".py",
   "mimetype": "text/x-python",
   "name": "python",
   "nbconvert_exporter": "python",
   "pygments_lexer": "ipython3",
   "version": "3.7.5"
  },
  "latex_envs": {
   "LaTeX_envs_menu_present": true,
   "autoclose": false,
   "autocomplete": true,
   "bibliofile": "biblio.bib",
   "cite_by": "apalike",
   "current_citInitial": 1,
   "eqLabelWithNumbers": true,
   "eqNumInitial": 1,
   "hotkeys": {
    "equation": "Ctrl-E",
    "itemize": "Ctrl-I"
   },
   "labels_anchors": false,
   "latex_user_defs": false,
   "report_style_numbering": false,
   "user_envs_cfg": false
  },
  "toc": {
   "base_numbering": 1,
   "nav_menu": {},
   "number_sections": false,
   "sideBar": true,
   "skip_h1_title": false,
   "title_cell": "Table of Contents",
   "title_sidebar": "Table of Contents",
   "toc_cell": false,
   "toc_position": {},
   "toc_section_display": true,
   "toc_window_display": false
  }
 },
 "nbformat": 4,
 "nbformat_minor": 2
}
