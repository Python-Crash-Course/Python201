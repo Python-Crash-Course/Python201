{
 "cells": [
  {
   "cell_type": "markdown",
   "metadata": {},
   "source": [
    "# 3. Advanced Functions\n",
    "\n",
    "Before we cast ourself into the more abstract Object-Oriented Programming (OOP), we'll wrap up on the Functional Programming regime by covering a series of the more advanced features of Python functions."
   ]
  },
  {
   "cell_type": "markdown",
   "metadata": {},
   "source": [
    "### Functions as objects"
   ]
  },
  {
   "cell_type": "markdown",
   "metadata": {},
   "source": [
    "Are Python functions actually just objects like any other variable? The answer is yes, which means that they can actually be passed around like any other object/variable. See below a simple example where a function is passed as input to another function."
   ]
  },
  {
   "cell_type": "code",
   "execution_count": 1,
   "metadata": {},
   "outputs": [],
   "source": [
    "# My greeting function\n",
    "def my_greeting(name):\n",
    "    return f'Hello {name}!'"
   ]
  },
  {
   "cell_type": "code",
   "execution_count": 2,
   "metadata": {},
   "outputs": [],
   "source": [
    "# A function that evaluate and prints a greeting function\n",
    "def printer(greet_func, name):\n",
    "    print( greet_func(name) )"
   ]
  },
  {
   "cell_type": "code",
   "execution_count": 3,
   "metadata": {},
   "outputs": [
    {
     "name": "stdout",
     "output_type": "stream",
     "text": [
      "Hello Pythonistas!\n"
     ]
    }
   ],
   "source": [
    "# Evaluate the printer function\n",
    "printer(my_greeting, 'Pythonistas')"
   ]
  },
  {
   "cell_type": "markdown",
   "metadata": {},
   "source": [
    "The reason this is possible is because, while Python may support functional programming, it's actually all about object-oriented programming which we'll talk about next time. Today we'll stick to the functional paradigm."
   ]
  },
  {
   "cell_type": "markdown",
   "metadata": {},
   "source": [
    "### Anonymous Functions\n",
    "Anonymous functions are also known as lambda functions because they rely on the `lambda` keyword.\n",
    "They allow for a more compact definition of a function but do not need to be assigned a name thus anonymous. This is useful for small simple functions only needed locally in the code and therefore should not pollute the global namespace."
   ]
  },
  {
   "cell_type": "markdown",
   "metadata": {},
   "source": [
    "The minimalistic syntax is `lambda arguments: expression` but is better illustrated with an example."
   ]
  },
  {
   "cell_type": "code",
   "execution_count": 4,
   "metadata": {},
   "outputs": [],
   "source": [
    "# Classical named function\n",
    "def my_func1(x, y):\n",
    "    return 2*x + y"
   ]
  },
  {
   "cell_type": "code",
   "execution_count": 5,
   "metadata": {},
   "outputs": [],
   "source": [
    "# Equivalent function using lambda\n",
    "my_func2 = lambda x,y: 2*x + y"
   ]
  },
  {
   "cell_type": "code",
   "execution_count": 6,
   "metadata": {},
   "outputs": [
    {
     "name": "stdout",
     "output_type": "stream",
     "text": [
      "Result of my_func1(2, 1) = 5\n"
     ]
    }
   ],
   "source": [
    "print(f'Result of my_func1(2, 1) = {my_func1(2, 1)}')"
   ]
  },
  {
   "cell_type": "code",
   "execution_count": 7,
   "metadata": {},
   "outputs": [
    {
     "name": "stdout",
     "output_type": "stream",
     "text": [
      "Result of my_func2(2, 1) = 5\n"
     ]
    }
   ],
   "source": [
    "print(f'Result of my_func2(2, 1) = {my_func2(2, 1)}')"
   ]
  },
  {
   "cell_type": "markdown",
   "metadata": {},
   "source": [
    "The main difference is that the lambda function does not have to be saved to a variable name. Examples of this are shon below.\n",
    "\n",
    "### Filter, Map and Reduce\n",
    "Some built-in functions that expect a function as input (also known as higher-order functions) are the filter, map and reduce functions illustrated below. These are all key functions in the paradigm of functional programming."
   ]
  },
  {
   "cell_type": "code",
   "execution_count": 8,
   "metadata": {},
   "outputs": [
    {
     "data": {
      "text/plain": [
       "[2, 4, 6, 8, 10]"
      ]
     },
     "execution_count": 8,
     "metadata": {},
     "output_type": "execute_result"
    }
   ],
   "source": [
    "# The Filter function takes two arguments. A function defining the filter criteria  \n",
    "# and a list/iterable to be filtered\n",
    "list(filter( lambda x: x%2 == 0, [1,2,3,4,5,6,7,8,9,10] ))  # extracts even numbers"
   ]
  },
  {
   "cell_type": "code",
   "execution_count": 9,
   "metadata": {},
   "outputs": [
    {
     "data": {
      "text/plain": [
       "[11.0, 22.0, 33.0, 44.0]"
      ]
     },
     "execution_count": 9,
     "metadata": {},
     "output_type": "execute_result"
    }
   ],
   "source": [
    "# The Map function applies a function element-wise to a list/iterable\n",
    "list(map( lambda p: p * 1.10, [10,20,30,40]))"
   ]
  },
  {
   "cell_type": "code",
   "execution_count": 10,
   "metadata": {},
   "outputs": [
    {
     "data": {
      "text/plain": [
       "'((((a+b)+c)+d)+e)'"
      ]
     },
     "execution_count": 10,
     "metadata": {},
     "output_type": "execute_result"
    }
   ],
   "source": [
    "# The Reduce function performs a repetitive operation on the first two elements of a list \n",
    "# merging them into one element until the whole list have been reduced\n",
    "from functools import reduce\n",
    "reduce( lambda c1, c2: f'({c1}+{c2})', ['a','b','c','d','e'])"
   ]
  },
  {
   "cell_type": "markdown",
   "metadata": {},
   "source": [
    "### Decorators\n",
    "A decorator is denoted with an `@` \"pie notation\" and is used if one needs to equip a function with an additional feature without editing the original function that might already be in use elsewhere or imported from another project."
   ]
  },
  {
   "cell_type": "code",
   "execution_count": 11,
   "metadata": {},
   "outputs": [],
   "source": [
    "# exotic function we cannot/will not change\n",
    "def exo_func(x):\n",
    "    print( f'x = {x} but with an exotic twist' )"
   ]
  },
  {
   "cell_type": "code",
   "execution_count": 12,
   "metadata": {},
   "outputs": [
    {
     "name": "stdout",
     "output_type": "stream",
     "text": [
      "x = 10 but with an exotic twist\n"
     ]
    }
   ],
   "source": [
    "# evaluating the function looks like this\n",
    "exo_func(10)"
   ]
  },
  {
   "cell_type": "markdown",
   "metadata": {},
   "source": [
    "A decorator is a function that defines a wrapping function that wraps the target function together with new features and returns the wrapping function without executing it."
   ]
  },
  {
   "cell_type": "code",
   "execution_count": 13,
   "metadata": {},
   "outputs": [],
   "source": [
    "# my decorator that adds additional features to the original exotic function\n",
    "def my_decorator(func):\n",
    "    def wrapper(x):  # <-- this is an inner function\n",
    "        print('Do something before')\n",
    "        func(x - 1)\n",
    "        func(x + 1)\n",
    "        print('Or do something after')\n",
    "    return wrapper\n",
    "# Note: that this function actually returns another unexecuted function!"
   ]
  },
  {
   "cell_type": "code",
   "execution_count": 14,
   "metadata": {},
   "outputs": [],
   "source": [
    "# overwrites/redirect the `exo_func` variable name to a decorated version of the function\n",
    "exo_func = my_decorator(exo_func)"
   ]
  },
  {
   "cell_type": "code",
   "execution_count": 15,
   "metadata": {},
   "outputs": [
    {
     "name": "stdout",
     "output_type": "stream",
     "text": [
      "Do something before\n",
      "x = 9 but with an exotic twist\n",
      "x = 11 but with an exotic twist\n",
      "Or do something after\n"
     ]
    }
   ],
   "source": [
    "# evaluating the decorated function\n",
    "exo_func(10)"
   ]
  },
  {
   "cell_type": "markdown",
   "metadata": {},
   "source": [
    "It is therefore possible to modify the behaviour of an existing function without changing the original function."
   ]
  },
  {
   "cell_type": "markdown",
   "metadata": {},
   "source": [
    "Alternatively, if you already have a decorator that you want to use on a new function you may use the `@` \"pie notation\" as a syntactic shortcut."
   ]
  },
  {
   "cell_type": "code",
   "execution_count": 16,
   "metadata": {},
   "outputs": [],
   "source": [
    "from math import sqrt\n",
    "@my_decorator\n",
    "def my_sqrt(x):\n",
    "    print( f'sqrt(x) = {sqrt(x)} but with a mathematical twist' )"
   ]
  },
  {
   "cell_type": "code",
   "execution_count": 17,
   "metadata": {},
   "outputs": [
    {
     "name": "stdout",
     "output_type": "stream",
     "text": [
      "Do something before\n",
      "sqrt(x) = 3.0 but with a mathematical twist\n",
      "sqrt(x) = 3.3166247903554 but with a mathematical twist\n",
      "Or do something after\n"
     ]
    }
   ],
   "source": [
    "# evaluating decorated math function\n",
    "my_sqrt(10)"
   ]
  },
  {
   "cell_type": "markdown",
   "metadata": {},
   "source": [
    "### Generators\n",
    "A generator is a special iterable function that do not terminate but wait for you to request the next output.\n",
    "For this it uses the `yield` keyword that keeps the namespace inside the function alive until a `return` keyword is reached.\n",
    "To ask a generator for its next output you use the `next()` function."
   ]
  },
  {
   "cell_type": "markdown",
   "metadata": {},
   "source": [
    "Let's have a look at a simple example."
   ]
  },
  {
   "cell_type": "code",
   "execution_count": 18,
   "metadata": {},
   "outputs": [],
   "source": [
    "# My simple generator\n",
    "def count_to_10(start=0):\n",
    "    num = start\n",
    "    while True:\n",
    "        num += 1\n",
    "        if num > 10: return 'I can only count to 10! :('\n",
    "        yield num"
   ]
  },
  {
   "cell_type": "code",
   "execution_count": 19,
   "metadata": {},
   "outputs": [
    {
     "data": {
      "text/plain": [
       "<generator object count_to_10 at 0x00000196D150EC78>"
      ]
     },
     "execution_count": 19,
     "metadata": {},
     "output_type": "execute_result"
    }
   ],
   "source": [
    "# Evaluating a generator just gives a generator object.\n",
    "count_to_10(5)"
   ]
  },
  {
   "cell_type": "markdown",
   "metadata": {},
   "source": [
    "Instead one should ask the generator object for its next output like this:"
   ]
  },
  {
   "cell_type": "code",
   "execution_count": 20,
   "metadata": {},
   "outputs": [
    {
     "name": "stdout",
     "output_type": "stream",
     "text": [
      "6\n",
      "7\n",
      "8\n",
      "9\n"
     ]
    }
   ],
   "source": [
    "my_num = count_to_10(5)\n",
    "print( next(my_num) )\n",
    "print( next(my_num) )\n",
    "print( next(my_num) )\n",
    "print( next(my_num) )"
   ]
  },
  {
   "cell_type": "code",
   "execution_count": 21,
   "metadata": {},
   "outputs": [
    {
     "data": {
      "text/plain": [
       "10"
      ]
     },
     "execution_count": 21,
     "metadata": {},
     "output_type": "execute_result"
    }
   ],
   "source": [
    "# it's stile alive\n",
    "next(my_num)"
   ]
  },
  {
   "cell_type": "code",
   "execution_count": 22,
   "metadata": {},
   "outputs": [
    {
     "ename": "StopIteration",
     "evalue": "I can only count to 10! :(",
     "output_type": "error",
     "traceback": [
      "\u001b[1;31m---------------------------------------------------------------------------\u001b[0m",
      "\u001b[1;31mStopIteration\u001b[0m                             Traceback (most recent call last)",
      "\u001b[1;32m<ipython-input-22-e63b252faf6b>\u001b[0m in \u001b[0;36m<module>\u001b[1;34m\u001b[0m\n\u001b[0;32m      1\u001b[0m \u001b[1;31m# if we try again we will exhaust the generator and it will throw a StopIteration exception\u001b[0m\u001b[1;33m\u001b[0m\u001b[1;33m\u001b[0m\u001b[1;33m\u001b[0m\u001b[0m\n\u001b[1;32m----> 2\u001b[1;33m \u001b[0mnext\u001b[0m\u001b[1;33m(\u001b[0m\u001b[0mmy_num\u001b[0m\u001b[1;33m)\u001b[0m\u001b[1;33m\u001b[0m\u001b[1;33m\u001b[0m\u001b[0m\n\u001b[0m",
      "\u001b[1;31mStopIteration\u001b[0m: I can only count to 10! :("
     ]
    }
   ],
   "source": [
    "# if we try again we will exhaust the generator and it will throw a StopIteration exception\n",
    "next(my_num)"
   ]
  },
  {
   "cell_type": "markdown",
   "metadata": {},
   "source": [
    "Asking for one output at a time can be useful if it's computational heavy and you properly won't need them all or if all of the outputs doesn't fit in memory."
   ]
  },
  {
   "cell_type": "code",
   "execution_count": 23,
   "metadata": {},
   "outputs": [
    {
     "data": {
      "text/plain": [
       "[3, 4, 5, 6, 7, 8, 9, 10]"
      ]
     },
     "execution_count": 23,
     "metadata": {},
     "output_type": "execute_result"
    }
   ],
   "source": [
    "# calling list() on the generator forces it to compute the full sequence\n",
    "list( count_to_10(start=2) )"
   ]
  },
  {
   "cell_type": "markdown",
   "metadata": {},
   "source": [
    "Generators can very easily be looped over:"
   ]
  },
  {
   "cell_type": "code",
   "execution_count": 24,
   "metadata": {},
   "outputs": [
    {
     "name": "stdout",
     "output_type": "stream",
     "text": [
      "1\n",
      "2\n",
      "3\n",
      "4\n",
      "5\n",
      "6\n",
      "7\n",
      "8\n",
      "9\n",
      "10\n"
     ]
    }
   ],
   "source": [
    "for num in count_to_10():\n",
    "    print(num)"
   ]
  },
  {
   "cell_type": "markdown",
   "metadata": {},
   "source": [
    "Generators are extremely common in Python 3 where many of the build-in functions by default return a generater object/iterator instead of e.g. a list. Examples are Zip, Map and Filter."
   ]
  },
  {
   "cell_type": "markdown",
   "metadata": {},
   "source": [
    "### Coroutines\n",
    "Coroutines are similar to generators, but instead of waiting to give the next output they wait for information to be sent to it via the send() method call. To do this the `yield` keyword now get a dual purpose, beside returning the output it also receives an input."
   ]
  },
  {
   "cell_type": "code",
   "execution_count": 25,
   "metadata": {},
   "outputs": [],
   "source": [
    "# Same example but now the yield keyword also insert an input into the num variable\n",
    "def count_to_10(start=0, step=1):\n",
    "    num = start\n",
    "    while True:\n",
    "        num += step\n",
    "        if num > 10: return 'I can only count to 10! :('\n",
    "        step = yield num"
   ]
  },
  {
   "cell_type": "markdown",
   "metadata": {},
   "source": [
    "Strictly speaking coroutine only receives, so this is actually both a generator and a coroutine."
   ]
  },
  {
   "cell_type": "code",
   "execution_count": 26,
   "metadata": {},
   "outputs": [
    {
     "data": {
      "text/plain": [
       "3"
      ]
     },
     "execution_count": 26,
     "metadata": {},
     "output_type": "execute_result"
    }
   ],
   "source": [
    "num = count_to_10(2)\n",
    "next(num)  # moves the internal cursor down to the yield statement"
   ]
  },
  {
   "cell_type": "code",
   "execution_count": 27,
   "metadata": {},
   "outputs": [
    {
     "data": {
      "text/plain": [
       "4"
      ]
     },
     "execution_count": 27,
     "metadata": {},
     "output_type": "execute_result"
    }
   ],
   "source": [
    "num.send(1)  # the internal cursor must be located at the yield statement before input can be send"
   ]
  },
  {
   "cell_type": "code",
   "execution_count": 28,
   "metadata": {},
   "outputs": [
    {
     "data": {
      "text/plain": [
       "6"
      ]
     },
     "execution_count": 28,
     "metadata": {},
     "output_type": "execute_result"
    }
   ],
   "source": [
    "num.send(2)  # steps by two"
   ]
  },
  {
   "cell_type": "code",
   "execution_count": 29,
   "metadata": {},
   "outputs": [
    {
     "data": {
      "text/plain": [
       "9"
      ]
     },
     "execution_count": 29,
     "metadata": {},
     "output_type": "execute_result"
    }
   ],
   "source": [
    "num.send(3)  # steps by three"
   ]
  },
  {
   "cell_type": "markdown",
   "metadata": {},
   "source": [
    "So beside keeping a function alive waiting for you to request its next output, information can now also be passed into the function during each of the iterations."
   ]
  },
  {
   "cell_type": "markdown",
   "metadata": {},
   "source": [
    "Finally, can both generators and coroutines be closed/terminated if they're no longer needed."
   ]
  },
  {
   "cell_type": "code",
   "execution_count": 30,
   "metadata": {},
   "outputs": [],
   "source": [
    "num.close()"
   ]
  },
  {
   "cell_type": "markdown",
   "metadata": {},
   "source": [
    "# Exercises\n",
    "\n",
    "The exercises in this session focus on:\n",
    " \n",
    "- lambda functions\n",
    "- decorators\n",
    "- generators\n",
    "\n",
    "*Remember to keep using git for version control of your code. Preferable this should become a new good habit of yours*"
   ]
  },
  {
   "cell_type": "markdown",
   "metadata": {},
   "source": [
    "## Exercise 1\n",
    "You got a list of tuples where each tuple contains (x, y, z) coordinates. \n",
    "Your task is now to sort this list of data points according to descending y-coordinates in **one line of code** by the use of a lambda function.\n",
    "\n",
    "Use the following code to generate the list of data points:\n",
    "```python\n",
    "# from the built-in random module import the random function that generates floats between 0 to 1.\n",
    "from random import random\n",
    "# generate a list of 10 data points\n",
    "data_points = [(random(), random(), random()) for x in range(10)]\n",
    "# print the data points\n",
    "for data_point in data_points:\n",
    "    print( data_point )\n",
    "```\n",
    "\n",
    "#### Hint 1\n",
    "There's basicly two ways to sort a list. Either you can use the `list.sort()` method call to sort the list inplace or the `sorted(list)` function call on the list to output a new sorted list without changing the original. The choice is yours but in any case you should consider using the keyword arguments `key` and `reverse`. \n",
    "#### Hint 2\n",
    "The keyword argument `key` takes in a function object that for each of the list elements return the key element of the sort.\n",
    "#### Hint 3\n",
    "In three lines of code it could be done like this:\n",
    "```python\n",
    "def get_second_value(x):\n",
    "    return x[1]\n",
    "sorted_points = sorted(data_points, key=get_second_value, reverse=True)\n",
    "```"
   ]
  },
  {
   "cell_type": "markdown",
   "metadata": {},
   "source": [
    "## Exercise 2\n",
    "Write a decorater that measures and prints the execution time of a function compatible with any number of arguments and keyword arguments.\n",
    "\n",
    "You can test your decorator in this function:\n",
    "```python\n",
    "import time\n",
    "def wait_1_sec():\n",
    "    time.sleep(1)  # sleeps 1 second\n",
    "    print('slept for 1 second')\n",
    "```\n",
    "#### Hint 1\n",
    "Without using a decorator it could look like this:\n",
    "```python\n",
    "start_time = time.perf_counter()\n",
    "wait_1_sec()\n",
    "end_time = time.perf_counter()\n",
    "time_diff = end_time - start_time\n",
    "print( f'the execution took {time_diff} seconds' )\n",
    "```\n",
    "#### Hint 2\n",
    "Use ```(*args, **kwargs)``` as inputs to the wrapping function and pass them into the timed function."
   ]
  },
  {
   "cell_type": "markdown",
   "metadata": {},
   "source": [
    "## Exercise 3\n",
    "Write a generator that outputs the element-wise squared value of a list. \n",
    "\n",
    "1. Define an abitrary list\n",
    "2. Use the generator to loop through the outputs while printing\n",
    "3. Get the output from the generator as a new list\n",
    "\n",
    "#### Hint 1\n",
    "Use the `yield` keyword instead of `return` to turn a function into a generator.\n",
    "\n",
    "#### Hint 2\n",
    "Using the `list` function call on a generator will force the generator to complete all its iterations."
   ]
  },
  {
   "cell_type": "markdown",
   "metadata": {},
   "source": [
    "## Bonus exercise\n",
    "Write a coroutine that prepares a new file for writing and then everytime it receives a string via the `send()` method it writes it to the file.\n",
    "#### Hint 1\n",
    "Remeber to use a context manager to ensure proper closing of the file once the coroutine is closed.\n",
    "```python\n",
    "with open(filename, 'w') as f:\n",
    "    f.write(string)\n",
    "```"
   ]
  },
  {
   "cell_type": "markdown",
   "metadata": {},
   "source": [
    "# End of exercises\n",
    "*The cell below is for setting the style of this document. It's not part of the exercises.*"
   ]
  },
  {
   "cell_type": "code",
   "execution_count": null,
   "metadata": {},
   "outputs": [],
   "source": [
    "# Apply css theme to notebook\n",
    "from IPython.display import HTML\n",
    "HTML('<style>{}</style>'.format(open('../css/cowi.css').read()))"
   ]
  }
 ],
 "metadata": {
  "hide_input": false,
  "kernelspec": {
   "display_name": "Python 3",
   "language": "python",
   "name": "python3"
  },
  "language_info": {
   "codemirror_mode": {
    "name": "ipython",
    "version": 3
   },
   "file_extension": ".py",
   "mimetype": "text/x-python",
   "name": "python",
   "nbconvert_exporter": "python",
   "pygments_lexer": "ipython3",
   "version": "3.7.3"
  },
  "latex_envs": {
   "LaTeX_envs_menu_present": true,
   "autoclose": false,
   "autocomplete": true,
   "bibliofile": "biblio.bib",
   "cite_by": "apalike",
   "current_citInitial": 1,
   "eqLabelWithNumbers": true,
   "eqNumInitial": 1,
   "hotkeys": {
    "equation": "Ctrl-E",
    "itemize": "Ctrl-I"
   },
   "labels_anchors": false,
   "latex_user_defs": false,
   "report_style_numbering": false,
   "user_envs_cfg": false
  },
  "toc": {
   "base_numbering": 1,
   "nav_menu": {},
   "number_sections": false,
   "sideBar": true,
   "skip_h1_title": false,
   "title_cell": "Table of Contents",
   "title_sidebar": "Table of Contents",
   "toc_cell": false,
   "toc_position": {},
   "toc_section_display": true,
   "toc_window_display": false
  }
 },
 "nbformat": 4,
 "nbformat_minor": 2
}
