{
 "cells": [
  {
   "cell_type": "markdown",
   "metadata": {},
   "source": [
    "# 7. Interaction between Excel\n",
    "\n",
    "xlwings is best demonstrated with an Excel workbook open at the same time\n",
    "\n",
    "> ***xlwings version:*** *The latest xlwings version at the time of writing this document is 0.18.0.*\n",
    "\n",
    "## Alternative to VBA\n",
    "\n",
    "The primary selling point for *xlwings* is to provide and alternative to Excel's built-in programming language VBA. The best thing about this is that is enables the user to take advantage of Python's large ecosystem of both built-in language features and third party packages like *Pandas*, *Numpy*, *Scipy*, *Matplotlib* etc.\n"
   ]
  },
  {
   "cell_type": "markdown",
   "metadata": {},
   "source": [
    "## Installation\n",
    "\n",
    "Install the *xlwings* add-in by\n",
    "\n",
    "```code\n",
    "pip install xlwings\n",
    "```\n",
    "\n",
    "Or if you use the Anaconda distribution\n",
    "\n",
    "```code\n",
    "conda install xlwings\n",
    "```\n"
   ]
  },
  {
   "cell_type": "markdown",
   "metadata": {},
   "source": [
    "## Initial setup\n",
    "\n",
    "### Create an Excel/Python file pair\n",
    "\n",
    "This is easiest done by opening the Command Prompt in the directory you want to have the files and running \n",
    "\n",
    "```code\n",
    "xlwings quickstart file_name\n",
    "```\n",
    "This should create two files called `file_name.xlsm` and `file_name.py`, which provides an easier setup for the work.\n",
    "\n",
    "\n",
    "> ***Hint:*** *You can open the Command Promt (cmd) in a specific folder in multiple ways:*\n",
    "1. *Open cmd and change directory by `cd path_to_directory`. Get the directory path by copying from file explorer.*\n",
    "2. *Open cmd directly from file explorer by typing `cmd` in the address line.*\n",
    "\n",
    "\n",
    "### Install the *xlwings* add-in for Excel\n",
    "    \n",
    "1. Go to the [xlwings releases on GitHub](https://github.com/xlwings/xlwings/releases) and download the file called `xlwings.xlam` from the release matching your installed version of *xlwings*. You can check your version of *xlwings* by `pip show xlwings`. \n",
    "  \n",
    "  \n",
    "2. Once downloaded, go to Excel => Developer tab => Excel Add-ins => browse for the `xlwings.xlam` file you just downloaded. Pressing \"OK\" should load the *xlwings* add-in as a ribbon tab in Excel. \n",
    "        \n",
    "*See [here](https://docs.xlwings.org/en/stable/addin.html#installation) for the installation instructions from the official documentation.*"
   ]
  },
  {
   "cell_type": "markdown",
   "metadata": {},
   "source": [
    "## The two created files\n",
    "\n",
    "**TODO**\n"
   ]
  },
  {
   "cell_type": "markdown",
   "metadata": {},
   "source": [
    "## Connecting to a workbook from Python\n",
    "\n",
    "When we work with the *xlwings* API we deal with objects. This is common for many Python packages.\n",
    "\n",
    "Internally in *xlwings*, a ***workbook*** is implemented as class. Let's try to create an instance of that class to connect to our newly created workbook."
   ]
  },
  {
   "cell_type": "code",
   "execution_count": 1,
   "metadata": {},
   "outputs": [],
   "source": [
    "import xlwings as xw"
   ]
  },
  {
   "cell_type": "code",
   "execution_count": 2,
   "metadata": {},
   "outputs": [
    {
     "name": "stdout",
     "output_type": "stream",
     "text": [
      "<Book [Session 7 - Interaction with Excel.xlsm]>\n",
      "<class 'xlwings.main.Book'>\n"
     ]
    }
   ],
   "source": [
    "# Connect to workbook\n",
    "wb = xw.Book('Session 7 - Interaction with Excel.xlsm')\n",
    "\n",
    "# Print the class instance\n",
    "print(wb)\n",
    "\n",
    "# And the type of the instance\n",
    "print(type(wb))"
   ]
  },
  {
   "cell_type": "markdown",
   "metadata": {},
   "source": [
    "## Referring to a sheet"
   ]
  },
  {
   "cell_type": "code",
   "execution_count": 35,
   "metadata": {},
   "outputs": [
    {
     "name": "stdout",
     "output_type": "stream",
     "text": [
      "Sheets([<Sheet [Session 7 - Interaction with Excel.xlsm]Sheet1>, <Sheet [Session 7 - Interaction with Excel.xlsm]Sheet2>, <Sheet [Session 7 - Interaction with Excel.xlsm]Sheet3>])\n",
      "\n",
      "<class 'xlwings.main.Sheets'>\n"
     ]
    }
   ],
   "source": [
    "\n",
    "# Extract the sheets from the workbook\n",
    "shts = wb.sheets\n",
    "\n",
    "# Let's inspect what `shts` actually is\n",
    "print(shts)\n",
    "print('')\n",
    "print(type(shts))"
   ]
  },
  {
   "cell_type": "markdown",
   "metadata": {},
   "source": [
    "Note that the above refers to all the sheets in the workbook. It is seen that our workbook has three sheets, i.e. `Sheet1`, `Sheet2` and `Sheet3`.\n",
    "\n",
    "If we want a single sheet, say `Sheet1`, we can extract it directly "
   ]
  },
  {
   "cell_type": "code",
   "execution_count": 36,
   "metadata": {},
   "outputs": [
    {
     "name": "stdout",
     "output_type": "stream",
     "text": [
      "<class 'xlwings.main.Sheet'>\n",
      "<Sheet [Session 7 - Interaction with Excel.xlsm]Sheet1>\n"
     ]
    }
   ],
   "source": [
    "# Extract only specific sheet\n",
    "sht = shts['Sheet1']\n",
    "\n",
    "# Print to inspect\n",
    "print(type(sht))\n",
    "print(sht)"
   ]
  },
  {
   "cell_type": "code",
   "execution_count": null,
   "metadata": {},
   "outputs": [],
   "source": []
  },
  {
   "cell_type": "code",
   "execution_count": null,
   "metadata": {},
   "outputs": [],
   "source": []
  },
  {
   "cell_type": "code",
   "execution_count": null,
   "metadata": {},
   "outputs": [],
   "source": []
  },
  {
   "cell_type": "code",
   "execution_count": null,
   "metadata": {},
   "outputs": [],
   "source": []
  },
  {
   "cell_type": "markdown",
   "metadata": {},
   "source": [
    "## Extract values from Excel to Python\n",
    "\n",
    "Extracting values from Excel to Python can be done by\n",
    "\n",
    "**TODO**"
   ]
  },
  {
   "cell_type": "code",
   "execution_count": null,
   "metadata": {},
   "outputs": [],
   "source": []
  },
  {
   "cell_type": "markdown",
   "metadata": {},
   "source": [
    "## Inserting values from Python to Excel\n",
    "\n",
    "Values can be inserted into a sheet from Python by"
   ]
  },
  {
   "cell_type": "code",
   "execution_count": 37,
   "metadata": {},
   "outputs": [],
   "source": [
    "sht['A1'].value = 1"
   ]
  },
  {
   "cell_type": "markdown",
   "metadata": {},
   "source": [
    "This might seem quite insignificant at a glance, but is this concept can be used to bring everything that Python offers into Excel.\n",
    "\n",
    "A parameter computed with Python can be inserted into the Excel sheet in the same manner"
   ]
  },
  {
   "cell_type": "code",
   "execution_count": 38,
   "metadata": {},
   "outputs": [],
   "source": [
    "sht['A2'].value = list(range(10))"
   ]
  },
  {
   "cell_type": "markdown",
   "metadata": {},
   "source": [
    "Notice that the list is inserted horizontally by default. To insert is vertically instead, do this:"
   ]
  },
  {
   "cell_type": "code",
   "execution_count": 39,
   "metadata": {},
   "outputs": [],
   "source": [
    "sht['A3'].options(transpose=True).value = list(range(10))"
   ]
  },
  {
   "cell_type": "markdown",
   "metadata": {},
   "source": [
    "## Macros\n"
   ]
  },
  {
   "cell_type": "code",
   "execution_count": null,
   "metadata": {},
   "outputs": [],
   "source": []
  },
  {
   "cell_type": "markdown",
   "metadata": {},
   "source": [
    "## User defined functions (UDFs)\n",
    "\n",
    "..."
   ]
  },
  {
   "cell_type": "code",
   "execution_count": 40,
   "metadata": {},
   "outputs": [],
   "source": [
    "@xw.func\n",
    "def greet_name(name):\n",
    "    \"\"\"Return a greeting to the inputted name.\"\"\"\n",
    "    return f'Hi, {name}'"
   ]
  },
  {
   "cell_type": "code",
   "execution_count": null,
   "metadata": {},
   "outputs": [],
   "source": []
  },
  {
   "cell_type": "markdown",
   "metadata": {},
   "source": [
    "## Limitations\n",
    "\n",
    "While the link between Python and Excel provided by *xlwings* is very convenient, it has some limitations:\n",
    "\n",
    "- Just like running macros in VBA, Ctrl-Z is not supported for undoing things. This can be quite frustrating."
   ]
  },
  {
   "cell_type": "markdown",
   "metadata": {},
   "source": [
    "## Other Python packages that interact with Excel\n",
    "\n",
    "*xlwings* is only one of multiple packages in the Python ecosystem that can talk to Excel. Some other ones are *PyXLL* and *DataNitro*.\n",
    "\n",
    "Furthermore, many packages provide a way to import and export data from Excel. Pandas for instance, can export a dataframes as a Excel file and import a range of cells into a dataframe. This is however quite different from actually having a \"live\" connection between Pytohn and Excel that can listen to individual cell values, run custom function etc.  "
   ]
  },
  {
   "cell_type": "code",
   "execution_count": null,
   "metadata": {},
   "outputs": [],
   "source": []
  },
  {
   "cell_type": "code",
   "execution_count": null,
   "metadata": {},
   "outputs": [],
   "source": []
  },
  {
   "cell_type": "code",
   "execution_count": null,
   "metadata": {},
   "outputs": [],
   "source": []
  },
  {
   "cell_type": "code",
   "execution_count": null,
   "metadata": {},
   "outputs": [],
   "source": []
  },
  {
   "cell_type": "markdown",
   "metadata": {},
   "source": [
    "# Exercises\n",
    "\n",
    "## Exercise 1 (Setup)\n",
    "\n",
    "Perform the following tasks\n",
    "\n",
    "1. Create an Excel/Python file pair by running `xlwings quickstart file_name` from the Prompt. See the section for Initial Setup above for more help. \n",
    "\n",
    "\n",
    "2. Create two new sheets called *Sheet2* and *Sheet3* in the workbook.\n",
    "\n",
    "\n",
    "3. Download the *xlwings* add-in and load it into Excel. See the section for Initial Setup above for more help.\n",
    "\n",
    "\n",
    "4. The created Python file already has some boiler plate code for importing *xlwings*, a `main()` function and a User Defined Function called `hello()`. \n",
    "\n",
    "   * Go ahead and delete the UDF `hello()` with its decorator. We are not going to use it here.\n",
    "\n",
    "   * From the *xlwings* tab in the Excel ribbon, press the \"Run main\" button. This should run the `main()` function defined in the Python file.\n",
    "   \n",
    "It this succeeded, you should now see the text `'Hello World'` in Cell A1 in the first sheet of the workbook.\n"
   ]
  },
  {
   "cell_type": "markdown",
   "metadata": {},
   "source": [
    "## Exercise 2\n",
    "\n",
    "We don't have to use the `main()` function to export values from Excel to Python. You can also do this by running the Python code from the editor.\n",
    "\n",
    "In the code block `if __name__ == '__main__':`, do the following:\n",
    "\n",
    "1. Establish a connection to the workbook and save it as a variable, e.g. `wb`.\n",
    "   \n",
    "2. Create a variable for referring to *Sheet2*, e.g. `sht2`. \n",
    "\n",
    "3. Use NumPy's [arange](https://docs.scipy.org/doc/numpy/reference/generated/numpy.arange.html) function to generate values from -50 to 50 with a step of 5 and insert the resulting 1D-array in cell *A1* in *Sheet2*.\n",
    "\n",
    "***Hint:*** *Remember to use `.option(transpose=True)` if you want the values to be inserted vertically, your choice.*\n",
    "\n",
    "***Recall:*** *The `if __name__ == '__main__'` block only gets executed when the Python file is run as a script, ***not*** if is is imported into another Python file. Pressing the \"Run main\" button executes the file directly (as a script).*\n"
   ]
  },
  {
   "cell_type": "markdown",
   "metadata": {},
   "source": [
    "## Exercise 3\n",
    "\n",
    "In this exercise, we will load a dataset and create a macro to interact with it.\n",
    "\n",
    "1. **Download a csv file with weather data from Sydney**. You can find the file [here](https://github.com/Python-Crash-Course/Python201/blob/master/Session%207%20-%20Interaction%20with%20Excel/Sydney_weather.csv). Download it by choosing \"Raw\" => right-click => save as csv. \n",
    "\n",
    "    We are going to create a small interface for plotting the dataset. The user should be able to choose\n",
    "\n",
    "  - Start date\n",
    "  - End date\n",
    "  - Parameter to plot\n",
    "  \n",
    "  In *sheet3* in the workbook, create input cells for the three things above.\n",
    "\n",
    "\n",
    "2. Create a new function in the Python file. It should be placed *above* the `if __name__ == '__main__':` and have the `@xw.sub` decorator (signifying a macro). Just leave the function empty for now, we write the code in Step 4.\n",
    "\n",
    "  After you have named your function in Python, go to Excel => Developer => Visual Basic => Module 1 and add the following VBA code to detect your Python function:\n",
    "  \n",
    "```vb\n",
    "Sub {CHOOSE_MACRO_NAME}()\n",
    "    mymodule = Left(ThisWorkbook.Name, (InStrRev(ThisWorkbook.Name, \".\", -1, vbTextCompare) - 1))\n",
    "    RunPython (\"import \" & mymodule & \";\" & mymodule & \".{INSERT_PYTHON_FUNCTION_NAME}()\")\n",
    "End Sub\n",
    "```\n",
    "\n",
    "3. In Excel go to Insert => Shape and choose a shape for a button. Right-click the button and assign your macro to it.\n",
    "\n",
    "\n",
    "4. Write the contents of the function in Step 2. The function has to:\n",
    "  \n",
    "   * Read the weather data file into a Pandas dataframe\n",
    "   * Read the three input values from Excel\n",
    "   * Filter the dataframe for all input parameters\n",
    "   * Create a figure object and fill it with a plot of the filtered data\n",
    "   * Put the resulting figure in *Sheet3* in the workbook\n",
    "  \n",
    "If everything is setup correctly, you should now be able to change the dates\n",
    "\n",
    "---\n",
    "\n",
    "***Hint:*** You can use this \"helper\" function for some of the grunt work. Note that only the macro function that in the end interacts with Excel needs to have the `@xw.sub` decorator. Note that you need to `import os` from the standard library to run the function.\n",
    "\n",
    "```python\n",
    "def create_daterange_dataframe(filename, start_date, end_date):\n",
    "\n",
    "    # Get the 'correct' current working dir (where the .py and .xlsm files are)\n",
    "    cwd = os.path.dirname(os.path.abspath(__file__))\n",
    "\n",
    "    # Combine into a full path to the dataset file\n",
    "    full_filename = f'{cwd}\\\\{filename}'\n",
    "\n",
    "    df_raw = pd.read_csv(filename)\n",
    "\n",
    "    # Change the \"raw\" dates into datetime objects so they can be filtered\n",
    "    df_raw['Date'] = pd.to_datetime(df_raw['Date'])\n",
    "    \n",
    "    # Set the date as the index of the dataframe\n",
    "    df = df_raw.set_index('Date')\n",
    "\n",
    "    # Filter dataframe for input date range and return it\n",
    "    return df[start_date:end_date]\n",
    "```\n",
    "\n",
    "\n",
    "***Explanation of the \"path\" above:*** *When running the Python macro from Excel, the ***current working directory*** might not be set correctly. This might be due to Excel dictating it instead of Python as normally. If this is the case, reading the data file will throw an import error if it is saved in the same directory as you `.xlsm` and `.py` files. The safest bet is to provide the full path of the csv-file. It could be done by this code:*\n"
   ]
  },
  {
   "cell_type": "markdown",
   "metadata": {},
   "source": [
    "## Some improvements\n",
    "\n",
    "Some ideas for improving our little weather plotting app cold be:\n",
    "\n",
    "- Give the user a more helpful error message if the chosen `parameter` is not present as a column in the dataset. Currently, the dataset cannot be seen from inside Excel, so the user kind of has to \"guess\" the right string to put in. The default Pandas error is something like `\"Keyerror: ...\"`.\n",
    "\n",
    "\n",
    "- Even better than an error message: Read all column name from the dataset and create a drop down in Excel so only valid entries can be chosen.\n",
    "\n",
    "\n",
    "- Make the plot prettier and more readable.\n",
    "\n",
    "\n",
    "- Automatically update the plot when either parameter is changed to avoid having to press the button. If not this, at removing/emptying the plot if either parameter change would be good. This will prevent having the temporary \"wrong plot\" until the button is pressed.\n",
    "\n",
    "\n",
    "- Every time the \"update plot\" button is pressed, the code reads in the data as a dataframe and sorts it based on the date range and plotting parameter. This could be improved in many ways, everything from caching previously computed results to using a small database. This will speed up the code a lot and will probably be necessary if the plot should auto-update or if the dataset was larger.\n",
    "\n",
    "### Other Pandas ideas for interaction with Excel\n",
    "\n",
    "Some other ideas to try for this dataset:\n",
    "\n",
    "- Generate descriptive statistics for entire datafrmae: [pandas.DataFrame.describe](https://pandas.pydata.org/pandas-docs/stable/reference/api/pandas.DataFrame.describe.html)\n",
    "\n",
    "- Compute statistics over custom time intervals: [pandas.DataFrame.resample](https://pandas.pydata.org/pandas-docs/stable/reference/api/pandas.DataFrame.resample.html)\n",
    "\n"
   ]
  },
  {
   "cell_type": "markdown",
   "metadata": {},
   "source": [
    "# End of exercises\n",
    "The cell below is for setting the style of this document. It's not part of the exercises."
   ]
  },
  {
   "cell_type": "code",
   "execution_count": 1,
   "metadata": {},
   "outputs": [
    {
     "data": {
      "text/html": [
       "<style>\n",
       "/* div#notebook {\n",
       " font-size: 13pt;\n",
       " line-height: 120%;\n",
       " color: #303030;\n",
       " -webkit-font-smoothing: antialiased !important;\n",
       " padding-top: 25px !important;\n",
       "} */\n",
       "\n",
       "\n",
       "body,\n",
       "div.body {\n",
       " font-family: Roboto;\n",
       " /* font-size: 16pt; */\n",
       " color: #303030;\n",
       " /* background-color: #d1b5b5; */\n",
       " /* background: #8f4f4f; */\n",
       " margin-right: 10px;\n",
       " /* -webkit-font-smoothing: antialiased !important; */\n",
       "}\n",
       "\n",
       "/* Code inside HTML/Markdown */\n",
       "div.rendered_html code {\n",
       "    border-radius: 5px;\n",
       "}\n",
       "\n",
       "/* Output area from code cells */\n",
       "div.output_area pre {\n",
       "    /* font-size: 11pt !important; */\n",
       "    color: #303030;\n",
       "}\n",
       "\n",
       "\n",
       "\n",
       "/* HEADING 1 styles */\n",
       "h1 {\n",
       "    font-family: 'Roboto', 'Signika', sans-serif;\n",
       "    font-weight: ligher;\n",
       "    font-style: normal;\n",
       "    /* font-size: 20pt; */\n",
       "    width: 100%;\n",
       "    text-align: left;\n",
       "    color: #EE7631;\n",
       "    border-bottom: 1px solid rgba(238, 118, 49, 0.575);\n",
       "    padding-bottom: 6px;\n",
       "    /* font-variant: small-caps; */\n",
       "    }\n",
       "  \n",
       "    /* table {\n",
       "        margin: 5px;\n",
       "        width: 290px;\n",
       "    }\n",
       "  \n",
       "    th {\n",
       "        padding: 3px;\n",
       "    }\n",
       "  \n",
       "    td {\n",
       "        padding-left: 8px;\n",
       "        padding-right: 8px;\n",
       "        border: 1px solid #990000;\n",
       "        background-color: #ffffcc;\n",
       "    }\n",
       "\n",
       "    #trHeader {\n",
       "        text-decoration: underline;\n",
       "        color: #990000;\n",
       "    }\n",
       "  \n",
       "    .centerCell {\n",
       "        text-align: center;\n",
       "    } */\n",
       "\n",
       "/* HEADING 2 styles */\n",
       "h2 {\n",
       "        font-family: \"Roboto\";\n",
       "        text-align: left;\n",
       "        /* font-size: 12pt; */\n",
       "        color: #EE7631;\n",
       "        margin-bottom: 5px;\n",
       "        /* border-bottom: 1px solid lightgray; */\n",
       "        border-bottom: 0.8px solid rgba(238, 118, 49, 0.575);\n",
       "        padding-bottom: 6px\n",
       "    }\n",
       "  \n",
       "    /* table {\n",
       "        margin: 5px;\n",
       "        width: 290px;\n",
       "    }\n",
       "  \n",
       "    th {\n",
       "        padding: 3px;\n",
       "    }\n",
       "  \n",
       "    td {\n",
       "        padding-left: 8px;\n",
       "        padding-right: 8px;\n",
       "        border: 1px solid #990000;\n",
       "        background-color: #ffffcc;\n",
       "    }\n",
       "\n",
       "    #trHeader {\n",
       "        text-decoration: underline;\n",
       "        color: #990000;\n",
       "    }\n",
       "  \n",
       "    .centerCell {\n",
       "        text-align: center;\n",
       "    } */\n",
       "\n",
       "h3 {\n",
       "        font-family: 'Roboto';\n",
       "        /* text-align: left; */\n",
       "        /* font-size: 12pt; */\n",
       "        /* color: #EE7631; */\n",
       "        /* margin-bottom: 5px; */\n",
       "        border-bottom: 0.5px solid #ededed;\n",
       "        padding-bottom: 6px\n",
       "    }\n",
       "\n",
       "\n",
       "\n",
       "p {\n",
       "    font-family: Roboto;\n",
       "    font-size: 16px;\n",
       "}\n",
       "\n",
       "/* Lists  with dots */\n",
       "ul {\n",
       "    font-size: 16px;\n",
       "    line-height: 150%;\n",
       "}\n",
       "\n",
       "/* Lists  with numbers */\n",
       "ol {\n",
       "    font-size: 16px;\n",
       "    line-height: 150%;\n",
       "}\n",
       "\n",
       "/* Horizontal rules */\n",
       "hr { \n",
       "    margin-top: 3px; \n",
       "    margin-bottom: 3px \n",
       "}\n",
       "\n",
       "/* Links */\n",
       "a {\n",
       "  color: #EE7631;\n",
       "}\n",
       "\n",
       "\n",
       "/* Change global font size (for code) */\n",
       ".CodeMirror {\n",
       "font-size: 16px !important;\n",
       "font-family: monospace;\n",
       "}\n",
       "\n",
       "\n",
       "/* Code cells in the notebook - NOTE: color is font-color */\n",
       ".cm-s-ipython.CodeMirror {\n",
       " font-family: monospace, monospace;\n",
       " /* font-size: 11pt; */\n",
       " background: #ededed;\n",
       " color: #303030;     \n",
       " border-radius: 2px;\n",
       " /* margin-right: 10px; */\n",
       " font-style: normal;\n",
       " font-weight: normal;\n",
       "}\n",
       "\n",
       "\n",
       "/* Background of code cells */\n",
       ".cm-s-ipython.CodeMirror {\n",
       " font-family: monospace, monospace;\n",
       " /* font-size: 11pt; */\n",
       " background: rgba(211, 211, 211, 0.123);\n",
       " color: #303030;\n",
       " border-radius: 2px;\n",
       " font-style: normal;\n",
       " font-weight: normal;\n",
       "}\n",
       "\n",
       "\n",
       "/* .CodeMirror-gutters {\n",
       " border: none;\n",
       " border-right: 1px solid #e0e1e3 !important;\n",
       " background-color: #e0e1e3 !important;\n",
       " background: #e0e1e3 !important;\n",
       " border-radius: 0px;\n",
       " white-space: nowrap;\n",
       "} */\n",
       "\n",
       "\n",
       "\n",
       "/* Code syntax highlithig theme */\n",
       ".cm-s-ipython .CodeMirror-cursor {\n",
       " border-left: 2px solid #ff711a !important;\n",
       "}\n",
       ".cm-s-ipython span.cm-comment {\n",
       " color: #8d8d8d;\n",
       " font-style: italic;                                                   \n",
       "}\n",
       ".cm-s-ipython span.cm-atom {\n",
       " color: #055be0;\n",
       "}\n",
       ".cm-s-ipython span.cm-number {\n",
       " color: #ff8132;\n",
       "}\n",
       ".cm-s-ipython span.cm-property {\n",
       " color: #303030;\n",
       "}\n",
       ".cm-s-ipython span.cm-attribute {\n",
       " color: #303030;\n",
       "}\n",
       ".cm-s-ipython span.cm-keyword {\n",
       " color: #a045ddf3;\n",
       " font-weight: normal;\n",
       "}\n",
       ".cm-s-ipython span.cm-string {\n",
       " color: #009e07;\n",
       "}\n",
       ".cm-s-ipython span.cm-meta {\n",
       " color: #aa22ff;\n",
       "}\n",
       ".cm-s-ipython span.cm-operator {\n",
       " color: #055be0;\n",
       "}\n",
       ".cm-s-ipython span.cm-builtin {\n",
       " color: #3f2ce7;\n",
       "}\n",
       ".cm-s-ipython span.cm-variable {\n",
       " color: #303030;\n",
       "}\n",
       ".cm-s-ipython span.cm-variable-2 {\n",
       " color: #de143d;\n",
       "}\n",
       ".cm-s-ipython span.cm-variable-3 {\n",
       " color: #aa22ff;\n",
       "}\n",
       ".cm-s-ipython span.cm-def {\n",
       " color: #e22978;\n",
       " font-weight: normal;\n",
       "}\n",
       ".cm-s-ipython span.cm-error {\n",
       " background: rgba(191,11,55,.70);\n",
       "}\n",
       ".cm-s-ipython span.cm-tag {\n",
       " color: #e22978;\n",
       "}\n",
       ".cm-s-ipython span.cm-link {\n",
       " color: #ef5c00;\n",
       "}\n",
       ".cm-s-ipython span.cm-storage {\n",
       " color: #055be0;\n",
       "}\n",
       ".cm-s-ipython span.cm-entity {\n",
       " color: #e22978;\n",
       "}\n",
       ".cm-s-ipython span.cm-quote {\n",
       " color: #009e07;\n",
       "}\n",
       "</style>"
      ],
      "text/plain": [
       "<IPython.core.display.HTML object>"
      ]
     },
     "execution_count": 1,
     "metadata": {},
     "output_type": "execute_result"
    }
   ],
   "source": [
    "# Apply css theme to notebook\n",
    "from IPython.display import HTML\n",
    "HTML('<style>{}</style>'.format(open('../css/cowi.css').read()))"
   ]
  }
 ],
 "metadata": {
  "hide_input": false,
  "kernelspec": {
   "display_name": "Python 3.7.6 64-bit",
   "language": "python",
   "name": "python37664bit13472031ad9c4190932241ec5e420991"
  },
  "language_info": {
   "codemirror_mode": {
    "name": "ipython",
    "version": 3
   },
   "file_extension": ".py",
   "mimetype": "text/x-python",
   "name": "python",
   "nbconvert_exporter": "python",
   "pygments_lexer": "ipython3",
   "version": "3.7.6"
  },
  "latex_envs": {
   "LaTeX_envs_menu_present": true,
   "autoclose": false,
   "autocomplete": true,
   "bibliofile": "biblio.bib",
   "cite_by": "apalike",
   "current_citInitial": 1,
   "eqLabelWithNumbers": true,
   "eqNumInitial": 1,
   "hotkeys": {
    "equation": "Ctrl-E",
    "itemize": "Ctrl-I"
   },
   "labels_anchors": false,
   "latex_user_defs": false,
   "report_style_numbering": false,
   "user_envs_cfg": false
  },
  "toc": {
   "base_numbering": "",
   "nav_menu": {},
   "number_sections": false,
   "sideBar": true,
   "skip_h1_title": false,
   "title_cell": "Table of Contents",
   "title_sidebar": "Table of Contents",
   "toc_cell": false,
   "toc_position": {
    "height": "calc(100% - 180px)",
    "left": "10px",
    "top": "150px",
    "width": "165px"
   },
   "toc_section_display": true,
   "toc_window_display": false
  }
 },
 "nbformat": 4,
 "nbformat_minor": 4
}
