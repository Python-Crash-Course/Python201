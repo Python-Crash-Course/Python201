{
 "cells": [
  {
   "cell_type": "markdown",
   "metadata": {},
   "source": [
    "# 7. Interact with Excel from Python and vice versa\n",
    "\n",
    "There are multiple packages in the Python ecosystem that can talk to Excel. \n",
    "\n",
    "Furthermore, many packages provide a way to import and export data to/from Excel. Pandas for instance, can export a dataframes as a Excel file and import a range of cells into a dataframe. This is however quite different from actually having a \"live\" connection between Python and Excel that can listen to individual cell values, run custom function etc. \n",
    "\n",
    "**This session focuses on the _xlwings_ (\"Make Excel fly\") 3rd-party library**, which creates a \"live link\" between Excel and Python. *xlwings* is free, open source and frequently updated as opposed to some other similar libraries.\n",
    "\n",
    "> *This type of interaction between Excel and Python is best shown with an instance of both Excel and Python running at the same time. Therefore, the explanations given below should be seen as if there is an Excel spreadsheet running along side of the Python code shown.*\n",
    "\n",
    "> ***xlwings version:*** *The latest xlwings version at the time of writing this document is 0.18.0 and that is the version used in the code.*\n",
    "\n",
    "There's fundamentally two ways you can use this library:\n",
    "* Manipulate Excel from Python\n",
    "* Use Python's features from Excel"
   ]
  },
  {
   "cell_type": "markdown",
   "metadata": {},
   "source": [
    "### Installation\n",
    "\n",
    "Install the *xlwings* add-in by\n",
    "\n",
    "```code\n",
    "pip install xlwings\n",
    "```\n",
    "\n",
    "Or if you use the Anaconda distribution\n",
    "\n",
    "```code\n",
    "conda install xlwings\n",
    "```\n"
   ]
  },
  {
   "cell_type": "markdown",
   "metadata": {},
   "source": [
    "## Part 1 - Manipulate Excel from Python"
   ]
  },
  {
   "cell_type": "code",
   "execution_count": 1,
   "metadata": {},
   "outputs": [],
   "source": [
    "import xlwings as xw"
   ]
  },
  {
   "cell_type": "markdown",
   "metadata": {},
   "source": [
    "### Create a workbook\n",
    "\n",
    "When we work with the *xlwings* API we deal with objects. This is common for many Python packages.\n",
    "\n",
    "Internally in *xlwings*, a ***workbook*** is implemented as a class. Let's try to create an instance of that class we can interact with."
   ]
  },
  {
   "cell_type": "code",
   "execution_count": 2,
   "metadata": {},
   "outputs": [
    {
     "name": "stdout",
     "output_type": "stream",
     "text": [
      "<Book [Book1]>\n",
      "<class 'xlwings.main.Book'>\n"
     ]
    }
   ],
   "source": [
    "# this will create a new workbook\n",
    "wb = xw.Book()\n",
    "\n",
    "# Print the class instance and its type\n",
    "print(wb)\n",
    "print(type(wb))"
   ]
  },
  {
   "cell_type": "markdown",
   "metadata": {},
   "source": [
    "Notice how executing this code actually made Excel startup with a new empty workbook."
   ]
  },
  {
   "cell_type": "markdown",
   "metadata": {},
   "source": [
    "### Referring to sheets\n",
    "Similar to workbooks are sheets also implemented as a class in xlwings. Let's see what sheets exist inside our newly created workbook."
   ]
  },
  {
   "cell_type": "code",
   "execution_count": 3,
   "metadata": {},
   "outputs": [
    {
     "name": "stdout",
     "output_type": "stream",
     "text": [
      "Sheets([<Sheet [Book1]Sheet1>])\n",
      "<class 'xlwings.main.Sheets'>\n"
     ]
    }
   ],
   "source": [
    "# Extract the sheets from the workbook\n",
    "shts = wb.sheets\n",
    "\n",
    "# Let's inspect what `shts` actually is\n",
    "print(shts)\n",
    "print(type(shts))"
   ]
  },
  {
   "cell_type": "markdown",
   "metadata": {},
   "source": [
    "Note that the above refers to all the sheets in the workbook. In this case we just see the default startup sheets.\n",
    "\n",
    "If we want to interact with a specific sheet, say `Sheet1`, we can extract it directly:"
   ]
  },
  {
   "cell_type": "code",
   "execution_count": 4,
   "metadata": {},
   "outputs": [
    {
     "name": "stdout",
     "output_type": "stream",
     "text": [
      "<Sheet [Book1]Sheet1>\n",
      "<class 'xlwings.main.Sheet'>\n"
     ]
    }
   ],
   "source": [
    "# Extract specific sheet\n",
    "sht = shts['Sheet1']\n",
    "\n",
    "# Print to inspect\n",
    "print(sht)\n",
    "print(type(sht))"
   ]
  },
  {
   "cell_type": "markdown",
   "metadata": {},
   "source": [
    "### Referring to single cells\n",
    "Now lets try to interact on a cell level inside the specific sheet selected above.\n",
    "Values defined/calculated in Python can be inserted into a cell by:"
   ]
  },
  {
   "cell_type": "code",
   "execution_count": 5,
   "metadata": {},
   "outputs": [],
   "source": [
    "# Assign cell values\n",
    "sht.range('A1').value = 1    # Insert 1 into cell A1\n",
    "sht.range('A2').value = 2.5\n",
    "sht.range('A3').value = 5"
   ]
  },
  {
   "cell_type": "markdown",
   "metadata": {},
   "source": [
    "To insert a formula you just insert the corresponding string into a cell:"
   ]
  },
  {
   "cell_type": "code",
   "execution_count": 6,
   "metadata": {},
   "outputs": [],
   "source": [
    "# Insert 'sum' formula\n",
    "sht.range('A4').value = '=sum(A1:A3)'"
   ]
  },
  {
   "cell_type": "markdown",
   "metadata": {},
   "source": [
    "Extracting values from Excel to Python is done in a very similar way. \n",
    "Let's extract the result of the formula we just inserted above:"
   ]
  },
  {
   "cell_type": "code",
   "execution_count": 7,
   "metadata": {},
   "outputs": [
    {
     "name": "stdout",
     "output_type": "stream",
     "text": [
      "A4 = 8.5\n"
     ]
    }
   ],
   "source": [
    "# Extract value calculated by formula\n",
    "A4_value = sht.range('A4').value\n",
    "print(f'A4 = {A4_value}')"
   ]
  },
  {
   "cell_type": "markdown",
   "metadata": {},
   "source": [
    "There's serveral ways to refer to a cell. Below we e.g. use the offset option."
   ]
  },
  {
   "cell_type": "code",
   "execution_count": 8,
   "metadata": {},
   "outputs": [
    {
     "name": "stdout",
     "output_type": "stream",
     "text": [
      "A4 = 8.5\n"
     ]
    }
   ],
   "source": [
    "# Alternative way to refer to A2 by use of offset\n",
    "A4_value = sht.range('A1').offset(row_offset=3, column_offset=0).value\n",
    "print(f'A4 = {A4_value}')"
   ]
  },
  {
   "cell_type": "markdown",
   "metadata": {},
   "source": [
    "This might seem quite insignificant at a glance, but this concept can be used to bring everything that Python offers into Excel."
   ]
  },
  {
   "cell_type": "markdown",
   "metadata": {},
   "source": [
    "### Referring to multiple cells\n",
    "Python lists can also be inserted into a \"cell\" by:"
   ]
  },
  {
   "cell_type": "code",
   "execution_count": 9,
   "metadata": {},
   "outputs": [],
   "source": [
    "# Insert 0 through 9 into cells B1:K2 (i.e. horizontally)\n",
    "sht['B1'].value = list(range(10))"
   ]
  },
  {
   "cell_type": "markdown",
   "metadata": {},
   "source": [
    "Notice that the list is inserted horizontally by default. To insert it vertically instead, do this:"
   ]
  },
  {
   "cell_type": "code",
   "execution_count": 10,
   "metadata": {},
   "outputs": [],
   "source": [
    "# Insert 0 through 9 into cells B2:B11 (i.e. vertically)\n",
    "sht['B2'].options(transpose=True).value = list(range(10))"
   ]
  },
  {
   "cell_type": "markdown",
   "metadata": {},
   "source": [
    "Just like you can insert a Python list into an array of cells, you can also extract the values of an array of cells into a Python list:"
   ]
  },
  {
   "cell_type": "code",
   "execution_count": 11,
   "metadata": {},
   "outputs": [
    {
     "name": "stdout",
     "output_type": "stream",
     "text": [
      "[1.0, 2.5, 5.0, 8.5]\n"
     ]
    }
   ],
   "source": [
    "# Extract range from cells A4:A7\n",
    "a1_to_a4 = sht['A1:A4'].value\n",
    "print(a1_to_a4)"
   ]
  },
  {
   "cell_type": "markdown",
   "metadata": {},
   "source": [
    "### Saving and closing workbook"
   ]
  },
  {
   "cell_type": "code",
   "execution_count": 12,
   "metadata": {},
   "outputs": [],
   "source": [
    "# Save the workbook\n",
    "wb.save('Session 7 - Test workbook.xlsx')"
   ]
  },
  {
   "cell_type": "code",
   "execution_count": 13,
   "metadata": {},
   "outputs": [],
   "source": [
    "# Close the workbook\n",
    "wb.close()"
   ]
  },
  {
   "cell_type": "markdown",
   "metadata": {},
   "source": [
    "### Opening existing workbook"
   ]
  },
  {
   "cell_type": "code",
   "execution_count": 14,
   "metadata": {},
   "outputs": [],
   "source": [
    "# Create a new workbook instance\n",
    "wb = xw.Book('Session 7 - Test workbook.xlsx')"
   ]
  },
  {
   "cell_type": "code",
   "execution_count": 15,
   "metadata": {},
   "outputs": [],
   "source": [
    "# You can also just close the whole application (this will exit all involved workbooks without saving!)\n",
    "wb.app.quit()"
   ]
  },
  {
   "cell_type": "markdown",
   "metadata": {},
   "source": [
    "### Take control of the whole Excel instance\n",
    "We're not limited to refering to workbooks and sheets. Here we'll take control of an whole Excel instance. Can example be useful if you need to loop through a lot of excel documents and you don't want to wait for Excel restarting every time."
   ]
  },
  {
   "cell_type": "code",
   "execution_count": 16,
   "metadata": {},
   "outputs": [],
   "source": [
    "# Start a new instance of Excel\n",
    "app = xw.App(visible=False, add_book=False)"
   ]
  },
  {
   "cell_type": "markdown",
   "metadata": {},
   "source": [
    "Application visibility can be set to false if the Excel process should run as a hidden background process and add_book is only specifying if an empty workbook should be initiated or not.\n",
    "\n",
    "Let's now open the previous workbook using our invisible Excel instance:"
   ]
  },
  {
   "cell_type": "code",
   "execution_count": 17,
   "metadata": {},
   "outputs": [],
   "source": [
    "# open an existing workbook with out Excel instance\n",
    "wb = app.books.open('Session 7 - Test workbook.xlsx')\n",
    "sht = wb.sheets['sheet1']"
   ]
  },
  {
   "cell_type": "markdown",
   "metadata": {},
   "source": [
    "We can directly interact with the Excel instance and change its behaviours:"
   ]
  },
  {
   "cell_type": "code",
   "execution_count": 18,
   "metadata": {},
   "outputs": [],
   "source": [
    "# turn off screen updating and automatic calculation\n",
    "app.calculation = 'manual'\n",
    "app.screen_updating = False"
   ]
  },
  {
   "cell_type": "code",
   "execution_count": 19,
   "metadata": {},
   "outputs": [
    {
     "name": "stdout",
     "output_type": "stream",
     "text": [
      "A4 = 8.5\n"
     ]
    }
   ],
   "source": [
    "# change cell 'A1'\n",
    "sht.range('A1').value = 100\n",
    "\n",
    "# extract formula value before having recalculated it\n",
    "A4_value = sht.range('A4').value\n",
    "print(f'A4 = {A4_value}')"
   ]
  },
  {
   "cell_type": "code",
   "execution_count": 20,
   "metadata": {},
   "outputs": [],
   "source": [
    "# turn back on screen_updating and automatic calculation\n",
    "wb.app.screen_updating = True\n",
    "wb.app.calculation = 'automatic'"
   ]
  },
  {
   "cell_type": "markdown",
   "metadata": {},
   "source": [
    "Notice how we can also refer to the application of a workbook via `wb.app.`."
   ]
  },
  {
   "cell_type": "code",
   "execution_count": 21,
   "metadata": {},
   "outputs": [
    {
     "name": "stdout",
     "output_type": "stream",
     "text": [
      "A4 = 107.5\n"
     ]
    }
   ],
   "source": [
    "# extract formula value again, now with auto. calculate activated\n",
    "A4_value = sht.range('A4').value\n",
    "print(f'A4 = {A4_value}')"
   ]
  },
  {
   "cell_type": "markdown",
   "metadata": {},
   "source": [
    "It could also be that you would like to turn off any filters before your Excel operations:"
   ]
  },
  {
   "cell_type": "code",
   "execution_count": 22,
   "metadata": {},
   "outputs": [],
   "source": [
    "# Deactivate filter\n",
    "if sht.api.AutoFilterMode is True:\n",
    "    sht.api.AutoFilterMode = False"
   ]
  },
  {
   "cell_type": "markdown",
   "metadata": {},
   "source": [
    "You can even insert a whole Pandas dataframes by:\n",
    "```python\n",
    "# insert dataframe\n",
    "sht.range('A1').value = df\n",
    "```"
   ]
  },
  {
   "cell_type": "code",
   "execution_count": 23,
   "metadata": {},
   "outputs": [],
   "source": [
    "# close the Excel application (without saving)\n",
    "app.quit()"
   ]
  },
  {
   "cell_type": "markdown",
   "metadata": {},
   "source": [
    "Note that even though the application has been closed, the background process are still running.\n",
    "To fully stop the process you have to delete all references to it by `del app` or by calling:"
   ]
  },
  {
   "cell_type": "code",
   "execution_count": 24,
   "metadata": {},
   "outputs": [],
   "source": [
    "app.kill()"
   ]
  },
  {
   "cell_type": "markdown",
   "metadata": {},
   "source": [
    "## Part 2 - Use Python's features from Excel\n",
    "\n",
    "### Alternative to VBA\n",
    "\n",
    "The primary selling point for *xlwings* is to provide an alternative to Excel's built-in programming language VBA. The best thing about this is that it enables the user to take advantage of Python's large ecosystem of both built-in language features and third party packages like *Pandas*, *Numpy*, *Scipy*, *Matplotlib* etc."
   ]
  },
  {
   "cell_type": "markdown",
   "metadata": {},
   "source": [
    "### Initial setup\n",
    "\n",
    "#### Create an Excel/Python file pair\n",
    "\n",
    "This is easiest done by opening the Command Prompt in the directory you want to have the files and running \n",
    "\n",
    "```code\n",
    "xlwings quickstart file_name\n",
    "```\n",
    "This should create two files called `file_name.xlsm` and `file_name.py`, which provides an easier setup for the work. Try to avoid spaces in the name.\n",
    "\n",
    "\n",
    "> ***Hint:*** *You can open the Command Promt (cmd) in a specific folder in multiple ways:*\n",
    "1. *Open cmd and change directory by `cd path_to_directory`. Get the directory path by copying from file explorer.*\n",
    "2. *Open cmd directly from file explorer by typing `cmd` in the address line.*\n",
    "\n",
    "\n",
    "#### Install the *xlwings* add-in for Excel\n",
    "    \n",
    "1. Go to the [xlwings releases on GitHub](https://github.com/xlwings/xlwings/releases) and download the file called `xlwings.xlam` from the release matching your installed version of *xlwings*. You can check your version of *xlwings* by `pip show xlwings`. \n",
    "  \n",
    "  \n",
    "2. Once downloaded, go to Excel => Developer tab => Excel Add-ins => browse for the `xlwings.xlam` file you just downloaded. Pressing \"OK\" should load the *xlwings* add-in as a ribbon tab in Excel.\n",
    "To see the Developer tab: File => Options => Customize Ribbon => tick off Developer => OK\n",
    "        \n",
    "*See [here](https://docs.xlwings.org/en/stable/addin.html#installation) for the installation instructions from the official documentation.*"
   ]
  },
  {
   "cell_type": "markdown",
   "metadata": {},
   "source": [
    "#### The two generated files\n",
    "\n",
    "The generated Excel file is a macro-enabled file (`.xlsm`) with some settings already in place that should have otherwise been done manually.\n",
    "\n",
    "The generated Python file has some boilerplate code to get started. The file should look like this:\n",
    "\n",
    "```python\n",
    "import xlwings as xw\n",
    "\n",
    "@xw.sub  # only required if you want to import it or run it via UDF Server\n",
    "def main():\n",
    "    wb = xw.Book.caller()\n",
    "    wb.sheets[0].range(\"A1\").value = \"Hello xlwings!\"\n",
    "\n",
    "\n",
    "@xw.func\n",
    "def hello(name):\n",
    "    return \"hello {0}\".format(name)\n",
    "\n",
    "\n",
    "if __name__ == \"__main__\":\n",
    "    xw.books.active.set_mock_caller()\n",
    "    main()\n",
    "    \n",
    "```"
   ]
  },
  {
   "cell_type": "markdown",
   "metadata": {},
   "source": [
    "The first function `main()` is a ***macro*** function, while the second one `hello()` is the User Defined Functions. more about later."
   ]
  },
  {
   "cell_type": "markdown",
   "metadata": {},
   "source": [
    "#### Workbook reference when calling Python from Excel\n",
    "\n",
    "When you call Python code from Excel, the \"calling\" workbook can be referred to as\n",
    "\n",
    "```python\n",
    "wb = xw.Book.caller()\n",
    "```\n",
    "\n",
    "This is good to use in that case, since you don't have to hard code file names, which is always something that should be avoided.  "
   ]
  },
  {
   "cell_type": "markdown",
   "metadata": {},
   "source": [
    "### Macros\n",
    "\n",
    "The generated Python file from the quickstart had a macro function looking like this:\n",
    "\n",
    "```python\n",
    "@xw.sub  # only required if you want to import it or run it via UDF Server\n",
    "def main():\n",
    "    wb = xw.Book.caller()\n",
    "    wb.sheets[0].range(\"A1\").value = \"Hello xlwings!\"\n",
    "```"
   ]
  },
  {
   "cell_type": "markdown",
   "metadata": {},
   "source": [
    "The `@xw.sub` decorator turns the Python function into a VBA macro, which is called a `Sub`.\n",
    "\n",
    "More about making the macros visible in Excel in the exercises. "
   ]
  },
  {
   "cell_type": "markdown",
   "metadata": {},
   "source": [
    "### User defined functions (UDFs)\n",
    "\n",
    "A User Defined Function (UDF) is something that can be called directly in each cell. `SUM()` is an example of a built-in Excel function.\n",
    "\n",
    "The generated Python file has an example of that as well:"
   ]
  },
  {
   "cell_type": "code",
   "execution_count": 25,
   "metadata": {},
   "outputs": [],
   "source": [
    "@xw.func\n",
    "def greet_name(name):\n",
    "    \"\"\"Return a greeting to the inputted name.\"\"\"\n",
    "    return f'Hi, {name}'"
   ]
  },
  {
   "cell_type": "markdown",
   "metadata": {},
   "source": [
    "This function type uses a Python decorator as well, this time turning the Python function into an VBA Function, also refered to as an Excel UDF.\n",
    "\n",
    "There is currently not an exercise in this session which uses UDF's. The API also seem less stable than for macros and the other general interaction shown above.\n",
    "Refer to the web, especially the *xlwings* [docs](https://docs.xlwings.org/en/stable/), for more information."
   ]
  },
  {
   "cell_type": "markdown",
   "metadata": {},
   "source": [
    "## Creating/reading Excel files vs. having a \"live link\"\n",
    "\n",
    "As mentioned, there are many Python packages that deal with Excel files. The *xlwings* package as demonstrated above creates a \"live session\" between an instance of Excel and Python. This is great in many scenarios.\n",
    "\n",
    "***If the goal however, is only to create/read an Excel file with results***, a package like `openpyxl` or `XlsxWriter ` (used by e.g. Pandas) is better suited. Creating Excel files is quite common since Python is good at automating computations and Excel is good for creating the layout of the final report, with nice bordered tables with colors, different fonts etc.\n",
    "\n",
    "From `openpyxl` all such things can be customized to create a report template. Thus, a live link like *xlwings* offers is not necessary in that case, and actually only complicates things.\n",
    "\n",
    "Behind the scenes, an Excel file is a bunch of [XML](https://da.wikipedia.org/wiki/XML) files stored in a zipped format. What `openpyxl` does is to write the Excel file in this format to create the resulting workbook. Or read from it if that is the use case.\n"
   ]
  },
  {
   "cell_type": "markdown",
   "metadata": {},
   "source": [
    "## Limitations\n",
    "\n",
    "While the link between Python and Excel provided by *xlwings* is very convenient, it has some limitations:\n",
    "\n",
    "- Just like running macros in VBA, Ctrl-Z is not supported for undoing things. This can be quite frustrating.\n",
    "\n",
    "\n",
    "- It can be hard to modularize ones code when working with an Excel/Python interaction like *xlwings*. E.g. if you in a project write multiple useful macros and UDFs, translation to new workbooks/projects is not totally streamlined. How does one create a library of macros and UDFs to seamlessly import into new workbooks? There might be good solutions, in the future or already made, for this though. This sort of thing is much easier done in Python alone."
   ]
  },
  {
   "cell_type": "markdown",
   "metadata": {},
   "source": [
    "# Exercises\n",
    "\n",
    "## Exercise 1 (Setup)\n",
    "\n",
    "Perform the following tasks\n",
    "\n",
    "1. Create an Excel/Python file pair by running `xlwings quickstart file_name` from the Prompt. See the section for Initial Setup above for more help. \n",
    "\n",
    "\n",
    "2. Create two new sheets called *Sheet2* and *Sheet3* in the workbook.\n",
    "\n",
    "\n",
    "3. Download the *xlwings* add-in and load it into Excel. See the section for Initial Setup above for more help.\n",
    "\n",
    "\n",
    "4. The created Python file already has some boiler plate code for importing *xlwings*, a `main()` function and a User Defined Function called `hello()`. \n",
    "\n",
    "   * Go ahead and delete the UDF `hello()` with its decorator. We are not going to use it here.\n",
    "\n",
    "   * From the *xlwings* tab in the Excel ribbon, press the \"Run main\" button. This should run the `main()` function defined in the Python file.\n",
    "   \n",
    "It's succesfull if you now see the text `'Hello World'` in Cell A1 in the first sheet of the workbook.\n"
   ]
  },
  {
   "cell_type": "markdown",
   "metadata": {},
   "source": [
    "## Exercise 2\n",
    "\n",
    "We don't have to use the `main()` function to export values from Excel to Python. You can also do this by running the Python code from the editor.\n",
    "\n",
    "In the code block `if __name__ == '__main__':`, do the following:\n",
    "\n",
    "1. Establish a connection to the workbook and save it as a variable, e.g. `wb`.\n",
    "   \n",
    "2. Create a variable for referring to *Sheet2*, e.g. `sht2`. \n",
    "\n",
    "3. Use NumPy's [arange](https://docs.scipy.org/doc/numpy/reference/generated/numpy.arange.html) function to generate values from -50 to 50 with a step of 5 and insert the resulting 1D-array in cell *A1* in *Sheet2*.\n",
    "\n",
    "***Hint:*** *Remember to use `.option(transpose=True)` if you want the values to be inserted vertically, your choice.*\n",
    "\n",
    "***Recall:*** *The `if __name__ == '__main__'` block only gets executed when the Python file is run as a script, ***not*** if is is imported into another Python file. Pressing the \"Run main\" button executes the file directly (as a script).*\n"
   ]
  },
  {
   "cell_type": "markdown",
   "metadata": {},
   "source": [
    "## Exercise 3\n",
    "\n",
    "In this exercise, we will load a dataset and create a macro to interact with it.\n",
    "\n",
    "1. **Download a csv file with weather data from Sydney**. You can find the file [here](https://github.com/Python-Crash-Course/Python201/blob/master/Session%207%20-%20Interaction%20with%20Excel/Sydney_weather.csv). Download it by choosing \"Raw\" => right-click => save as csv. \n",
    "\n",
    "    We are going to create a small interface for plotting the dataset. The user should be able to choose\n",
    "\n",
    "  - Start date\n",
    "  - End date\n",
    "  - Parameter to plot\n",
    "  \n",
    "  In *sheet3* in the workbook, create input cells for the three things above.\n",
    "\n",
    "\n",
    "2. Create a new function in the Python file. It should be placed *above* the `if __name__ == '__main__':` and have the `@xw.sub` decorator (signifying a macro). Just leave the function empty for now, we write the code in Step 4.\n",
    "\n",
    "  After you have named your function in Python, go to Excel => Developer => Visual Basic => Module 1 and add the following VBA code to detect your Python function:\n",
    "  \n",
    "```vb\n",
    "Sub {CHOOSE_MACRO_NAME}()\n",
    "    mymodule = Left(ThisWorkbook.Name, (InStrRev(ThisWorkbook.Name, \".\", -1, vbTextCompare) - 1))\n",
    "    RunPython (\"import \" & mymodule & \";\" & mymodule & \".{INSERT_PYTHON_FUNCTION_NAME}()\")\n",
    "End Sub\n",
    "```\n",
    "\n",
    "Alternatively you can also use the way simpler version where the module name must be entered manually: \n",
    "```vb\n",
    "Sub my_sub()\n",
    "    RunPython (\"import my_module; my_module.my_func()\")\n",
    "End Sub\n",
    "```\n",
    "\n",
    "3. In Excel go to Insert => Shape and choose a shape for a button. Right-click the button and assign your macro to it.\n",
    "\n",
    "\n",
    "4. Write the contents of the function in Step 2. The function has to:\n",
    "  \n",
    "   * Read the weather data file into a Pandas dataframe\n",
    "   * Read the three input values from Excel\n",
    "   * Filter the dataframe for all input parameters\n",
    "   * Create a figure object and fill it with a plot of the filtered data\n",
    "   * Put the resulting figure in *Sheet3* in the workbook\n",
    "  \n",
    "If everything is setup correctly, you should now be able to change the dates\n",
    "\n",
    "---\n",
    "\n",
    "***Hint:*** You can use this \"helper\" function for some of the grunt work. Note that only the macro function that in the end interacts with Excel needs to have the `@xw.sub` decorator. Note that you need to `import os` from the standard library to run the function.\n",
    "\n",
    "```python\n",
    "def create_daterange_dataframe(filename, start_date, end_date):\n",
    "\n",
    "    # Get the 'correct' current working dir (where the .py and .xlsm files are)\n",
    "    cwd = os.path.dirname(os.path.abspath(__file__))\n",
    "\n",
    "    # Combine into a full path to the dataset file\n",
    "    full_filename = f'{cwd}\\\\{filename}'\n",
    "\n",
    "    df_raw = pd.read_csv(filename)\n",
    "\n",
    "    # Change the \"raw\" dates into datetime objects so they can be filtered\n",
    "    df_raw['Date'] = pd.to_datetime(df_raw['Date'])\n",
    "    \n",
    "    # Set the date as the index of the dataframe\n",
    "    df = df_raw.set_index('Date')\n",
    "\n",
    "    # Filter dataframe for input date range and return it\n",
    "    return df[start_date:end_date]\n",
    "```\n",
    "\n",
    "\n",
    "***Explanation of the \"path\" above:*** *When running the Python macro from Excel, the ***current working directory*** might not be set correctly. This might be due to Excel dictating it instead of Python as normally. If this is the case, reading the data file will throw an import error if it is saved in the same directory as you `.xlsm` and `.py` files. The safest bet is to provide the full path of the csv-file. It could be done by this code:*\n"
   ]
  },
  {
   "cell_type": "markdown",
   "metadata": {},
   "source": [
    "## Some improvements\n",
    "\n",
    "Some ideas for improving our little weather plotting app cold be:\n",
    "\n",
    "- Give the user a more helpful error message if the chosen `parameter` is not present as a column in the dataset. Currently, the dataset cannot be seen from inside Excel, so the user kind of has to \"guess\" the right string to put in. The default Pandas error is something like `\"Keyerror: ...\"`.\n",
    "\n",
    "\n",
    "- Even better than an error message: Read all column name from the dataset and create a drop down in Excel so only valid entries can be chosen.\n",
    "\n",
    "\n",
    "- Make the plot prettier and more readable.\n",
    "\n",
    "\n",
    "- Automatically update the plot when either parameter is changed to avoid having to press the button. If not this, at removing/emptying the plot if either parameter change would be good. This will prevent having the temporary \"wrong plot\" until the button is pressed.\n",
    "\n",
    "\n",
    "- Every time the \"update plot\" button is pressed, the code reads in the data as a dataframe and sorts it based on the date range and plotting parameter. This could be improved in many ways, everything from caching previously computed results to using a small database. This will speed up the code a lot and will probably be necessary if the plot should auto-update or if the dataset was larger.\n",
    "\n",
    "### Other Pandas ideas for interaction with Excel\n",
    "\n",
    "Some other ideas to try for this dataset:\n",
    "\n",
    "- Generate descriptive statistics for entire datafrmae: [pandas.DataFrame.describe](https://pandas.pydata.org/pandas-docs/stable/reference/api/pandas.DataFrame.describe.html)\n",
    "\n",
    "- Compute statistics over custom time intervals: [pandas.DataFrame.resample](https://pandas.pydata.org/pandas-docs/stable/reference/api/pandas.DataFrame.resample.html)\n",
    "\n"
   ]
  },
  {
   "cell_type": "markdown",
   "metadata": {},
   "source": [
    "# End of exercises\n",
    "The cell below is for setting the style of this document. It's not part of the exercises."
   ]
  },
  {
   "cell_type": "code",
   "execution_count": 26,
   "metadata": {},
   "outputs": [
    {
     "data": {
      "text/html": [
       "<style>\n",
       "/* div#notebook {\n",
       " font-size: 13pt;\n",
       " line-height: 120%;\n",
       " color: #303030;\n",
       " -webkit-font-smoothing: antialiased !important;\n",
       " padding-top: 25px !important;\n",
       "} */\n",
       "\n",
       "\n",
       "body,\n",
       "div.body {\n",
       " font-family: Roboto;\n",
       " /* font-size: 16pt; */\n",
       " color: #303030;\n",
       " /* background-color: #d1b5b5; */\n",
       " /* background: #8f4f4f; */\n",
       " margin-right: 10px;\n",
       " /* -webkit-font-smoothing: antialiased !important; */\n",
       "}\n",
       "\n",
       "/* Code inside HTML/Markdown */\n",
       "div.rendered_html code {\n",
       "    border-radius: 5px;\n",
       "}\n",
       "\n",
       "/* Output area from code cells */\n",
       "div.output_area pre {\n",
       "    /* font-size: 11pt !important; */\n",
       "    color: #303030;\n",
       "}\n",
       "\n",
       "\n",
       "\n",
       "/* HEADING 1 styles */\n",
       "h1 {\n",
       "    font-family: 'Roboto', 'Signika', sans-serif;\n",
       "    font-weight: ligher;\n",
       "    font-style: normal;\n",
       "    /* font-size: 20pt; */\n",
       "    width: 100%;\n",
       "    text-align: left;\n",
       "    color: #EE7631;\n",
       "    border-bottom: 1px solid rgba(238, 118, 49, 0.575);\n",
       "    padding-bottom: 6px;\n",
       "    /* font-variant: small-caps; */\n",
       "    }\n",
       "  \n",
       "    /* table {\n",
       "        margin: 5px;\n",
       "        width: 290px;\n",
       "    }\n",
       "  \n",
       "    th {\n",
       "        padding: 3px;\n",
       "    }\n",
       "  \n",
       "    td {\n",
       "        padding-left: 8px;\n",
       "        padding-right: 8px;\n",
       "        border: 1px solid #990000;\n",
       "        background-color: #ffffcc;\n",
       "    }\n",
       "\n",
       "    #trHeader {\n",
       "        text-decoration: underline;\n",
       "        color: #990000;\n",
       "    }\n",
       "  \n",
       "    .centerCell {\n",
       "        text-align: center;\n",
       "    } */\n",
       "\n",
       "/* HEADING 2 styles */\n",
       "h2 {\n",
       "        font-family: \"Roboto\";\n",
       "        text-align: left;\n",
       "        /* font-size: 12pt; */\n",
       "        color: #EE7631;\n",
       "        margin-bottom: 5px;\n",
       "        /* border-bottom: 1px solid lightgray; */\n",
       "        border-bottom: 0.8px solid rgba(238, 118, 49, 0.575);\n",
       "        padding-bottom: 6px\n",
       "    }\n",
       "  \n",
       "    /* table {\n",
       "        margin: 5px;\n",
       "        width: 290px;\n",
       "    }\n",
       "  \n",
       "    th {\n",
       "        padding: 3px;\n",
       "    }\n",
       "  \n",
       "    td {\n",
       "        padding-left: 8px;\n",
       "        padding-right: 8px;\n",
       "        border: 1px solid #990000;\n",
       "        background-color: #ffffcc;\n",
       "    }\n",
       "\n",
       "    #trHeader {\n",
       "        text-decoration: underline;\n",
       "        color: #990000;\n",
       "    }\n",
       "  \n",
       "    .centerCell {\n",
       "        text-align: center;\n",
       "    } */\n",
       "\n",
       "h3 {\n",
       "        font-family: 'Roboto';\n",
       "        /* text-align: left; */\n",
       "        /* font-size: 12pt; */\n",
       "        /* color: #EE7631; */\n",
       "        /* margin-bottom: 5px; */\n",
       "        border-bottom: 0.5px solid #ededed;\n",
       "        padding-bottom: 6px\n",
       "    }\n",
       "\n",
       "\n",
       "\n",
       "p {\n",
       "    font-family: Roboto;\n",
       "    font-size: 16px;\n",
       "}\n",
       "\n",
       "/* Lists  with dots */\n",
       "ul {\n",
       "    font-size: 16px;\n",
       "    line-height: 150%;\n",
       "}\n",
       "\n",
       "/* Lists  with numbers */\n",
       "ol {\n",
       "    font-size: 16px;\n",
       "    line-height: 150%;\n",
       "}\n",
       "\n",
       "/* Horizontal rules */\n",
       "hr { \n",
       "    margin-top: 3px; \n",
       "    margin-bottom: 3px \n",
       "}\n",
       "\n",
       "/* Links */\n",
       "a {\n",
       "  color: #EE7631;\n",
       "}\n",
       "\n",
       "\n",
       "/* Change global font size (for code) */\n",
       ".CodeMirror {\n",
       "font-size: 16px !important;\n",
       "font-family: monospace;\n",
       "}\n",
       "\n",
       "\n",
       "/* Code cells in the notebook - NOTE: color is font-color */\n",
       ".cm-s-ipython.CodeMirror {\n",
       " font-family: monospace, monospace;\n",
       " /* font-size: 11pt; */\n",
       " background: #ededed;\n",
       " color: #303030;     \n",
       " border-radius: 2px;\n",
       " /* margin-right: 10px; */\n",
       " font-style: normal;\n",
       " font-weight: normal;\n",
       "}\n",
       "\n",
       "\n",
       "/* Background of code cells */\n",
       ".cm-s-ipython.CodeMirror {\n",
       " font-family: monospace, monospace;\n",
       " /* font-size: 11pt; */\n",
       " background: rgba(211, 211, 211, 0.123);\n",
       " color: #303030;\n",
       " border-radius: 2px;\n",
       " font-style: normal;\n",
       " font-weight: normal;\n",
       "}\n",
       "\n",
       "\n",
       "/* .CodeMirror-gutters {\n",
       " border: none;\n",
       " border-right: 1px solid #e0e1e3 !important;\n",
       " background-color: #e0e1e3 !important;\n",
       " background: #e0e1e3 !important;\n",
       " border-radius: 0px;\n",
       " white-space: nowrap;\n",
       "} */\n",
       "\n",
       "\n",
       "\n",
       "/* Code syntax highlithig theme */\n",
       ".cm-s-ipython .CodeMirror-cursor {\n",
       " border-left: 2px solid #ff711a !important;\n",
       "}\n",
       ".cm-s-ipython span.cm-comment {\n",
       " color: #8d8d8d;\n",
       " font-style: italic;                                                   \n",
       "}\n",
       ".cm-s-ipython span.cm-atom {\n",
       " color: #055be0;\n",
       "}\n",
       ".cm-s-ipython span.cm-number {\n",
       " color: #ff8132;\n",
       "}\n",
       ".cm-s-ipython span.cm-property {\n",
       " color: #303030;\n",
       "}\n",
       ".cm-s-ipython span.cm-attribute {\n",
       " color: #303030;\n",
       "}\n",
       ".cm-s-ipython span.cm-keyword {\n",
       " color: #a045ddf3;\n",
       " font-weight: normal;\n",
       "}\n",
       ".cm-s-ipython span.cm-string {\n",
       " color: #009e07;\n",
       "}\n",
       ".cm-s-ipython span.cm-meta {\n",
       " color: #aa22ff;\n",
       "}\n",
       ".cm-s-ipython span.cm-operator {\n",
       " color: #055be0;\n",
       "}\n",
       ".cm-s-ipython span.cm-builtin {\n",
       " color: #3f2ce7;\n",
       "}\n",
       ".cm-s-ipython span.cm-variable {\n",
       " color: #303030;\n",
       "}\n",
       ".cm-s-ipython span.cm-variable-2 {\n",
       " color: #de143d;\n",
       "}\n",
       ".cm-s-ipython span.cm-variable-3 {\n",
       " color: #aa22ff;\n",
       "}\n",
       ".cm-s-ipython span.cm-def {\n",
       " color: #e22978;\n",
       " font-weight: normal;\n",
       "}\n",
       ".cm-s-ipython span.cm-error {\n",
       " background: rgba(191,11,55,.70);\n",
       "}\n",
       ".cm-s-ipython span.cm-tag {\n",
       " color: #e22978;\n",
       "}\n",
       ".cm-s-ipython span.cm-link {\n",
       " color: #ef5c00;\n",
       "}\n",
       ".cm-s-ipython span.cm-storage {\n",
       " color: #055be0;\n",
       "}\n",
       ".cm-s-ipython span.cm-entity {\n",
       " color: #e22978;\n",
       "}\n",
       ".cm-s-ipython span.cm-quote {\n",
       " color: #009e07;\n",
       "}\n",
       "</style>"
      ],
      "text/plain": [
       "<IPython.core.display.HTML object>"
      ]
     },
     "execution_count": 26,
     "metadata": {},
     "output_type": "execute_result"
    }
   ],
   "source": [
    "# Apply css theme to notebook\n",
    "from IPython.display import HTML\n",
    "HTML('<style>{}</style>'.format(open('../css/cowi.css').read()))"
   ]
  }
 ],
 "metadata": {
  "hide_input": false,
  "kernelspec": {
   "display_name": "Python 3",
   "language": "python",
   "name": "python3"
  },
  "language_info": {
   "codemirror_mode": {
    "name": "ipython",
    "version": 3
   },
   "file_extension": ".py",
   "mimetype": "text/x-python",
   "name": "python",
   "nbconvert_exporter": "python",
   "pygments_lexer": "ipython3",
   "version": "3.7.3"
  },
  "latex_envs": {
   "LaTeX_envs_menu_present": true,
   "autoclose": false,
   "autocomplete": true,
   "bibliofile": "biblio.bib",
   "cite_by": "apalike",
   "current_citInitial": 1,
   "eqLabelWithNumbers": true,
   "eqNumInitial": 1,
   "hotkeys": {
    "equation": "Ctrl-E",
    "itemize": "Ctrl-I"
   },
   "labels_anchors": false,
   "latex_user_defs": false,
   "report_style_numbering": false,
   "user_envs_cfg": false
  },
  "toc": {
   "base_numbering": "",
   "nav_menu": {},
   "number_sections": false,
   "sideBar": true,
   "skip_h1_title": false,
   "title_cell": "Table of Contents",
   "title_sidebar": "Table of Contents",
   "toc_cell": false,
   "toc_position": {
    "height": "calc(100% - 180px)",
    "left": "10px",
    "top": "150px",
    "width": "165px"
   },
   "toc_section_display": true,
   "toc_window_display": false
  }
 },
 "nbformat": 4,
 "nbformat_minor": 4
}
