{
 "cells": [
  {
   "cell_type": "markdown",
   "metadata": {},
   "source": [
    "# 4. Exercise solutions\n",
    "\n",
    "## Exericse 1"
   ]
  },
  {
   "cell_type": "code",
   "execution_count": 1,
   "metadata": {},
   "outputs": [],
   "source": [
    "# define Triangle class\n",
    "class Triangle:\n",
    "    \n",
    "    def __init__(self, height, width):\n",
    "        self.height = height\n",
    "        self.width = width\n",
    "\n",
    "    @property\n",
    "    def area(self):\n",
    "        return 0.5 * self.height * self.width"
   ]
  },
  {
   "cell_type": "code",
   "execution_count": 2,
   "metadata": {},
   "outputs": [
    {
     "data": {
      "text/plain": [
       "True"
      ]
     },
     "execution_count": 2,
     "metadata": {},
     "output_type": "execute_result"
    }
   ],
   "source": [
    "# initialise instances\n",
    "tri1 = Triangle(5, 5)\n",
    "tri2 = Triangle(5, 8)\n",
    "# compare areas\n",
    "tri1.area < tri2.area"
   ]
  },
  {
   "cell_type": "markdown",
   "metadata": {},
   "source": [
    "## Exericse 2"
   ]
  },
  {
   "cell_type": "code",
   "execution_count": 3,
   "metadata": {},
   "outputs": [
    {
     "name": "stdout",
     "output_type": "stream",
     "text": [
      "0.02262031409510108\n",
      "1.9613063809417997\n",
      "3.5747228774418245\n",
      "5.328844861280842\n",
      "5.535032025900612\n",
      "6.543706546566132\n",
      "10.914336423463437\n",
      "11.597341952659397\n",
      "12.142288392240784\n",
      "18.616891800445224\n"
     ]
    }
   ],
   "source": [
    "from random import random\n",
    "# initialise list of random triangles\n",
    "triangles = [Triangle(10*random(), 10*random()) for i in range(10)]\n",
    "# sorting inplace\n",
    "triangles.sort(key = lambda x: x.area)\n",
    "# print the sorted triangles and corresponding areas\n",
    "for tri in triangles:\n",
    "    print( tri.area )"
   ]
  },
  {
   "cell_type": "markdown",
   "metadata": {},
   "source": [
    "## Exercise 3-1"
   ]
  },
  {
   "cell_type": "code",
   "execution_count": 4,
   "metadata": {},
   "outputs": [],
   "source": [
    "# define Counter class\n",
    "class Counter:\n",
    "    def __init__(self, start=0):\n",
    "        self.__value = start\n",
    "\n",
    "    def count_up(self):\n",
    "        self.__value += 1\n",
    "\n",
    "    def count_down(self):\n",
    "        self.__value -= 1\n",
    "\n",
    "    def get_value(self):\n",
    "        return self.__value"
   ]
  },
  {
   "cell_type": "code",
   "execution_count": 5,
   "metadata": {},
   "outputs": [
    {
     "data": {
      "text/plain": [
       "2"
      ]
     },
     "execution_count": 5,
     "metadata": {},
     "output_type": "execute_result"
    }
   ],
   "source": [
    "# initialise counter instance and take it for a spin\n",
    "counter = Counter()\n",
    "counter.count_up()\n",
    "counter.count_up()\n",
    "counter.count_up()\n",
    "counter.count_down()\n",
    "counter.get_value()"
   ]
  },
  {
   "cell_type": "markdown",
   "metadata": {},
   "source": [
    "## Exercise 3-2"
   ]
  },
  {
   "cell_type": "code",
   "execution_count": 6,
   "metadata": {},
   "outputs": [],
   "source": [
    "# define Counter class\n",
    "class Counter:\n",
    "    def __init__(self, start=0):\n",
    "        self.__value = start\n",
    "\n",
    "    def count_up(self):\n",
    "        self.__value += 1\n",
    "\n",
    "    def count_down(self):\n",
    "        self.__value -= 1\n",
    "\n",
    "    def get_value(self):\n",
    "        return self.__value\n",
    "    \n",
    "    def count_up_by(self, step):\n",
    "        self.__value += step"
   ]
  },
  {
   "cell_type": "code",
   "execution_count": 7,
   "metadata": {},
   "outputs": [
    {
     "data": {
      "text/plain": [
       "5"
      ]
     },
     "execution_count": 7,
     "metadata": {},
     "output_type": "execute_result"
    }
   ],
   "source": [
    "# initialise counter instance and take it for a spin\n",
    "counter = Counter()\n",
    "counter.count_up()\n",
    "counter.count_up_by(5)\n",
    "counter.count_down()\n",
    "counter.get_value()"
   ]
  },
  {
   "cell_type": "markdown",
   "metadata": {},
   "source": [
    "# End of exercises\n",
    "\n",
    "*The cell below is for setting the style of this document. It's not part of the exercises.*"
   ]
  },
  {
   "cell_type": "code",
   "execution_count": 8,
   "metadata": {},
   "outputs": [
    {
     "data": {
      "text/html": [
       "<style>\n",
       "/* div#notebook {\n",
       " font-size: 13pt;\n",
       " line-height: 120%;\n",
       " color: #303030;\n",
       " -webkit-font-smoothing: antialiased !important;\n",
       " padding-top: 25px !important;\n",
       "} */\n",
       "\n",
       "\n",
       "body,\n",
       "div.body {\n",
       " font-family: Roboto;\n",
       " /* font-size: 16pt; */\n",
       " color: #303030;\n",
       " /* background-color: #d1b5b5; */\n",
       " /* background: #8f4f4f; */\n",
       " margin-right: 10px;\n",
       " /* -webkit-font-smoothing: antialiased !important; */\n",
       "}\n",
       "\n",
       "/* Code inside HTML/Markdown */\n",
       "div.rendered_html code {\n",
       "    border-radius: 5px;\n",
       "}\n",
       "\n",
       "/* Output area from code cells */\n",
       "div.output_area pre {\n",
       "    /* font-size: 11pt !important; */\n",
       "    color: #303030;\n",
       "}\n",
       "\n",
       "\n",
       "\n",
       "/* HEADING 1 styles */\n",
       "h1 {\n",
       "    font-family: 'Roboto', 'Signika', sans-serif;\n",
       "    font-weight: ligher;\n",
       "    font-style: normal;\n",
       "    /* font-size: 20pt; */\n",
       "    width: 100%;\n",
       "    text-align: left;\n",
       "    color: #EE7631;\n",
       "    border-bottom: 1px solid rgba(238, 118, 49, 0.575);\n",
       "    padding-bottom: 6px;\n",
       "    /* font-variant: small-caps; */\n",
       "    }\n",
       "  \n",
       "    /* table {\n",
       "        margin: 5px;\n",
       "        width: 290px;\n",
       "    }\n",
       "  \n",
       "    th {\n",
       "        padding: 3px;\n",
       "    }\n",
       "  \n",
       "    td {\n",
       "        padding-left: 8px;\n",
       "        padding-right: 8px;\n",
       "        border: 1px solid #990000;\n",
       "        background-color: #ffffcc;\n",
       "    }\n",
       "\n",
       "    #trHeader {\n",
       "        text-decoration: underline;\n",
       "        color: #990000;\n",
       "    }\n",
       "  \n",
       "    .centerCell {\n",
       "        text-align: center;\n",
       "    } */\n",
       "\n",
       "/* HEADING 2 styles */\n",
       "h2 {\n",
       "        font-family: \"Roboto\";\n",
       "        text-align: left;\n",
       "        /* font-size: 12pt; */\n",
       "        color: #EE7631;\n",
       "        margin-bottom: 5px;\n",
       "        /* border-bottom: 1px solid lightgray; */\n",
       "        border-bottom: 0.8px solid rgba(238, 118, 49, 0.575);\n",
       "        padding-bottom: 6px\n",
       "    }\n",
       "  \n",
       "    /* table {\n",
       "        margin: 5px;\n",
       "        width: 290px;\n",
       "    }\n",
       "  \n",
       "    th {\n",
       "        padding: 3px;\n",
       "    }\n",
       "  \n",
       "    td {\n",
       "        padding-left: 8px;\n",
       "        padding-right: 8px;\n",
       "        border: 1px solid #990000;\n",
       "        background-color: #ffffcc;\n",
       "    }\n",
       "\n",
       "    #trHeader {\n",
       "        text-decoration: underline;\n",
       "        color: #990000;\n",
       "    }\n",
       "  \n",
       "    .centerCell {\n",
       "        text-align: center;\n",
       "    } */\n",
       "\n",
       "h3 {\n",
       "        font-family: 'Roboto';\n",
       "        /* text-align: left; */\n",
       "        /* font-size: 12pt; */\n",
       "        /* color: #EE7631; */\n",
       "        /* margin-bottom: 5px; */\n",
       "        border-bottom: 0.5px solid #ededed;\n",
       "        padding-bottom: 6px\n",
       "    }\n",
       "\n",
       "\n",
       "\n",
       "p {\n",
       "    font-family: Roboto;\n",
       "    font-size: 16px;\n",
       "}\n",
       "\n",
       "/* Lists  with dots */\n",
       "ul {\n",
       "    font-size: 16px;\n",
       "    line-height: 150%;\n",
       "}\n",
       "\n",
       "/* Lists  with numbers */\n",
       "ol {\n",
       "    font-size: 16px;\n",
       "    line-height: 150%;\n",
       "}\n",
       "\n",
       "/* Horizontal rules */\n",
       "hr { \n",
       "    margin-top: 3px; \n",
       "    margin-bottom: 3px \n",
       "}\n",
       "\n",
       "/* Links */\n",
       "a {\n",
       "  color: #EE7631;\n",
       "}\n",
       "\n",
       "\n",
       "/* Change global font size (for code) */\n",
       ".CodeMirror {\n",
       "font-size: 16px !important;\n",
       "font-family: monospace;\n",
       "}\n",
       "\n",
       "\n",
       "/* Code cells in the notebook - NOTE: color is font-color */\n",
       ".cm-s-ipython.CodeMirror {\n",
       " font-family: monospace, monospace;\n",
       " /* font-size: 11pt; */\n",
       " background: #ededed;\n",
       " color: #303030;     \n",
       " border-radius: 2px;\n",
       " /* margin-right: 10px; */\n",
       " font-style: normal;\n",
       " font-weight: normal;\n",
       "}\n",
       "\n",
       "\n",
       "/* Background of code cells */\n",
       ".cm-s-ipython.CodeMirror {\n",
       " font-family: monospace, monospace;\n",
       " /* font-size: 11pt; */\n",
       " background: rgba(211, 211, 211, 0.123);\n",
       " color: #303030;\n",
       " border-radius: 2px;\n",
       " font-style: normal;\n",
       " font-weight: normal;\n",
       "}\n",
       "\n",
       "\n",
       "/* .CodeMirror-gutters {\n",
       " border: none;\n",
       " border-right: 1px solid #e0e1e3 !important;\n",
       " background-color: #e0e1e3 !important;\n",
       " background: #e0e1e3 !important;\n",
       " border-radius: 0px;\n",
       " white-space: nowrap;\n",
       "} */\n",
       "\n",
       "\n",
       "\n",
       "/* Code syntax highlithig theme */\n",
       ".cm-s-ipython .CodeMirror-cursor {\n",
       " border-left: 2px solid #ff711a !important;\n",
       "}\n",
       ".cm-s-ipython span.cm-comment {\n",
       " color: #8d8d8d;\n",
       " font-style: italic;                                                   \n",
       "}\n",
       ".cm-s-ipython span.cm-atom {\n",
       " color: #055be0;\n",
       "}\n",
       ".cm-s-ipython span.cm-number {\n",
       " color: #ff8132;\n",
       "}\n",
       ".cm-s-ipython span.cm-property {\n",
       " color: #303030;\n",
       "}\n",
       ".cm-s-ipython span.cm-attribute {\n",
       " color: #303030;\n",
       "}\n",
       ".cm-s-ipython span.cm-keyword {\n",
       " color: #a045ddf3;\n",
       " font-weight: normal;\n",
       "}\n",
       ".cm-s-ipython span.cm-string {\n",
       " color: #009e07;\n",
       "}\n",
       ".cm-s-ipython span.cm-meta {\n",
       " color: #aa22ff;\n",
       "}\n",
       ".cm-s-ipython span.cm-operator {\n",
       " color: #055be0;\n",
       "}\n",
       ".cm-s-ipython span.cm-builtin {\n",
       " color: #3f2ce7;\n",
       "}\n",
       ".cm-s-ipython span.cm-variable {\n",
       " color: #303030;\n",
       "}\n",
       ".cm-s-ipython span.cm-variable-2 {\n",
       " color: #de143d;\n",
       "}\n",
       ".cm-s-ipython span.cm-variable-3 {\n",
       " color: #aa22ff;\n",
       "}\n",
       ".cm-s-ipython span.cm-def {\n",
       " color: #e22978;\n",
       " font-weight: normal;\n",
       "}\n",
       ".cm-s-ipython span.cm-error {\n",
       " background: rgba(191,11,55,.70);\n",
       "}\n",
       ".cm-s-ipython span.cm-tag {\n",
       " color: #e22978;\n",
       "}\n",
       ".cm-s-ipython span.cm-link {\n",
       " color: #ef5c00;\n",
       "}\n",
       ".cm-s-ipython span.cm-storage {\n",
       " color: #055be0;\n",
       "}\n",
       ".cm-s-ipython span.cm-entity {\n",
       " color: #e22978;\n",
       "}\n",
       ".cm-s-ipython span.cm-quote {\n",
       " color: #009e07;\n",
       "}\n",
       "</style>"
      ],
      "text/plain": [
       "<IPython.core.display.HTML object>"
      ]
     },
     "execution_count": 8,
     "metadata": {},
     "output_type": "execute_result"
    }
   ],
   "source": [
    "# Apply css theme to notebook\n",
    "from IPython.display import HTML\n",
    "HTML('<style>{}</style>'.format(open('../css/cowi.css').read()))"
   ]
  }
 ],
 "metadata": {
  "hide_input": false,
  "kernelspec": {
   "display_name": "Python 3",
   "language": "python",
   "name": "python3"
  },
  "language_info": {
   "codemirror_mode": {
    "name": "ipython",
    "version": 3
   },
   "file_extension": ".py",
   "mimetype": "text/x-python",
   "name": "python",
   "nbconvert_exporter": "python",
   "pygments_lexer": "ipython3",
   "version": "3.7.3"
  },
  "latex_envs": {
   "LaTeX_envs_menu_present": true,
   "autoclose": false,
   "autocomplete": true,
   "bibliofile": "biblio.bib",
   "cite_by": "apalike",
   "current_citInitial": 1,
   "eqLabelWithNumbers": true,
   "eqNumInitial": 1,
   "hotkeys": {
    "equation": "Ctrl-E",
    "itemize": "Ctrl-I"
   },
   "labels_anchors": false,
   "latex_user_defs": false,
   "report_style_numbering": false,
   "user_envs_cfg": false
  },
  "toc": {
   "base_numbering": 1,
   "nav_menu": {},
   "number_sections": false,
   "sideBar": true,
   "skip_h1_title": false,
   "title_cell": "Table of Contents",
   "title_sidebar": "Table of Contents",
   "toc_cell": false,
   "toc_position": {
    "height": "calc(100% - 180px)",
    "left": "10px",
    "top": "150px",
    "width": "165px"
   },
   "toc_section_display": true,
   "toc_window_display": false
  }
 },
 "nbformat": 4,
 "nbformat_minor": 2
}
